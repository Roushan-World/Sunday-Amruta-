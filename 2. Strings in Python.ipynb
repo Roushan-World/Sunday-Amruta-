{
 "cells": [
  {
   "cell_type": "markdown",
   "id": "1924368e-f99c-4495-8bb2-d9f9ed58d6aa",
   "metadata": {},
   "source": [
    "# 2. Strings "
   ]
  },
  {
   "cell_type": "code",
   "execution_count": 1,
   "id": "53b0f01b-fc67-4037-a2da-802b60388ee0",
   "metadata": {},
   "outputs": [
    {
     "data": {
      "text/plain": [
       "'Hello world'"
      ]
     },
     "execution_count": 1,
     "metadata": {},
     "output_type": "execute_result"
    }
   ],
   "source": [
    "# employee double quotation marks for describing a string.\n",
    "\"Hello world\""
   ]
  },
  {
   "cell_type": "code",
   "execution_count": 2,
   "id": "9ca86eb2-3b40-4355-9e65-fd835b982c91",
   "metadata": {},
   "outputs": [
    {
     "ename": "SyntaxError",
     "evalue": "invalid syntax (2283479775.py, line 1)",
     "output_type": "error",
     "traceback": [
      "\u001b[1;36m  Cell \u001b[1;32mIn[2], line 1\u001b[1;36m\u001b[0m\n\u001b[1;33m    Hello world\u001b[0m\n\u001b[1;37m          ^\u001b[0m\n\u001b[1;31mSyntaxError\u001b[0m\u001b[1;31m:\u001b[0m invalid syntax\n"
     ]
    }
   ],
   "source": [
    "Hello world"
   ]
  },
  {
   "cell_type": "code",
   "execution_count": 4,
   "id": "e9b3a41c-f13e-4a04-ab9c-bb1c040732c6",
   "metadata": {},
   "outputs": [
    {
     "data": {
      "text/plain": [
       "'1 2 3 4 5 6 7 8 9'"
      ]
     },
     "execution_count": 4,
     "metadata": {},
     "output_type": "execute_result"
    }
   ],
   "source": [
    "#  Digitals and spaces in a string.\n",
    "\"1 2 3 4 5 6 7 8 9\""
   ]
  },
  {
   "cell_type": "code",
   "execution_count": 5,
   "id": "cdaa90ed-99bd-426b-8f4c-abfe29094b37",
   "metadata": {},
   "outputs": [
    {
     "data": {
      "text/plain": [
       "' @ # $ % & !'"
      ]
     },
     "execution_count": 5,
     "metadata": {},
     "output_type": "execute_result"
    }
   ],
   "source": [
    "# Specifiec character in a string.\n",
    "\n",
    "\" @ # $ % & !\""
   ]
  },
  {
   "cell_type": "code",
   "execution_count": 6,
   "id": "e2620269-362e-4754-9aeb-4456f09ace93",
   "metadata": {},
   "outputs": [
    {
     "ename": "SyntaxError",
     "evalue": "invalid syntax (3270386722.py, line 1)",
     "output_type": "error",
     "traceback": [
      "\u001b[1;36m  Cell \u001b[1;32mIn[6], line 1\u001b[1;36m\u001b[0m\n\u001b[1;33m    @\u001b[0m\n\u001b[1;37m     ^\u001b[0m\n\u001b[1;31mSyntaxError\u001b[0m\u001b[1;31m:\u001b[0m invalid syntax\n"
     ]
    }
   ],
   "source": [
    "@"
   ]
  },
  {
   "cell_type": "code",
   "execution_count": 8,
   "id": "821815db-0322-4770-95e2-d0cb21de5a70",
   "metadata": {},
   "outputs": [
    {
     "data": {
      "text/plain": [
       "'Amruta'"
      ]
     },
     "execution_count": 8,
     "metadata": {},
     "output_type": "execute_result"
    }
   ],
   "source": [
    "\"Amruta\""
   ]
  },
  {
   "cell_type": "code",
   "execution_count": 10,
   "id": "412e87a7-5ce1-4734-8228-6d9f59b85d5e",
   "metadata": {},
   "outputs": [
    {
     "name": "stdout",
     "output_type": "stream",
     "text": [
      "Hello world\n",
      "<class 'str'>\n"
     ]
    }
   ],
   "source": [
    "message=\"Hello world\"\n",
    "print(message)\n",
    "print(type(message))"
   ]
  },
  {
   "cell_type": "code",
   "execution_count": 13,
   "id": "e76277a4-8077-48fc-9fe1-aed977bbeb9c",
   "metadata": {},
   "outputs": [
    {
     "name": "stdout",
     "output_type": "stream",
     "text": [
      "145\n",
      "<class 'str'>\n"
     ]
    }
   ],
   "source": [
    "message='145'\n",
    "print(message)\n",
    "print(type(message))"
   ]
  },
  {
   "cell_type": "code",
   "execution_count": 14,
   "id": "33d76f43-ff95-43ac-8cf8-8301917a4b2e",
   "metadata": {},
   "outputs": [
    {
     "data": {
      "text/plain": [
       "'145145'"
      ]
     },
     "execution_count": 14,
     "metadata": {},
     "output_type": "execute_result"
    }
   ],
   "source": [
    "'145'+'145'"
   ]
  },
  {
   "cell_type": "code",
   "execution_count": 15,
   "id": "5f322249-2524-466f-b044-f6ba127f6cbd",
   "metadata": {},
   "outputs": [
    {
     "data": {
      "text/plain": [
       "200"
      ]
     },
     "execution_count": 15,
     "metadata": {},
     "output_type": "execute_result"
    }
   ],
   "source": [
    "100+100"
   ]
  },
  {
   "cell_type": "code",
   "execution_count": 19,
   "id": "ea697379-bc87-43d2-a0d0-aaeda274974b",
   "metadata": {},
   "outputs": [
    {
     "name": "stdout",
     "output_type": "stream",
     "text": [
      "Hello World\n"
     ]
    }
   ],
   "source": [
    "# Index value\n",
    "# Positive Index value and Negative Index value\n",
    "\n",
    "msg='Hello World'\n",
    "print(msg)"
   ]
  },
  {
   "cell_type": "code",
   "execution_count": 31,
   "id": "699e4288-757d-4d2f-8718-a7d865f2f0a7",
   "metadata": {},
   "outputs": [
    {
     "name": "stdout",
     "output_type": "stream",
     "text": [
      "H\n",
      "e\n",
      "l\n",
      "l\n",
      "o\n",
      " \n",
      "W\n",
      "o\n",
      "r\n",
      "l\n",
      "d\n"
     ]
    }
   ],
   "source": [
    "# Positive Indexing.\n",
    "print(msg[0])\n",
    "print(msg[1])\n",
    "print(msg[2])\n",
    "print(msg[3])\n",
    "print(msg[4])\n",
    "print(msg[5])\n",
    "print(msg[6])\n",
    "print(msg[7])\n",
    "print(msg[8])\n",
    "print(msg[9])\n",
    "print(msg[10])\n",
    "# print(msg[11])"
   ]
  },
  {
   "cell_type": "code",
   "execution_count": 45,
   "id": "2650a211-578f-43d8-92b5-3918c061b7e8",
   "metadata": {},
   "outputs": [
    {
     "name": "stdout",
     "output_type": "stream",
     "text": [
      "Hello World\n",
      "d\n",
      "l\n",
      "r\n",
      "o\n",
      "W\n",
      " \n",
      "o\n",
      "l\n",
      "l\n",
      "e\n",
      "H\n"
     ]
    }
   ],
   "source": [
    "# Negatative Indexing\n",
    "print(msg)\n",
    "print(msg[-1])\n",
    "print(msg[-2])\n",
    "print(msg[-3])\n",
    "print(msg[-4])\n",
    "print(msg[-5])\n",
    "print(msg[-6])\n",
    "print(msg[-7])\n",
    "print(msg[-8])\n",
    "print(msg[-9])\n",
    "print(msg[-10])\n",
    "print(msg[-11])\n",
    "# print(msg[-12])"
   ]
  },
  {
   "cell_type": "code",
   "execution_count": 54,
   "id": "317f2a21-8185-4960-8b79-0e2ab53cc170",
   "metadata": {},
   "outputs": [
    {
     "name": "stdout",
     "output_type": "stream",
     "text": [
      "Hello\n",
      "world\n",
      "ll\n",
      "rld\n"
     ]
    }
   ],
   "source": [
    "# with the help of index you can able to access element inside the quotes.\n",
    "# \n",
    "\n",
    "# Slicing of element.  msg[starting value:ending value]  # n-1 = n is ending range \n",
    "msg=\"Hello world\"\n",
    "print(msg[0:5])\n",
    "print(msg[6:11])\n",
    "print(msg[2:4])\n",
    "print(msg[8:11])"
   ]
  },
  {
   "cell_type": "code",
   "execution_count": 55,
   "id": "23e0a4d3-8ab7-4704-b3da-263e478c1de1",
   "metadata": {},
   "outputs": [
    {
     "name": "stdout",
     "output_type": "stream",
     "text": [
      "Hello world\n",
      "11\n"
     ]
    }
   ],
   "source": [
    "# len(): it return total lenght inside the string\n",
    "\n",
    "msg1='Hello world'\n",
    "print(msg1)\n",
    "print(len(msg1))"
   ]
  },
  {
   "cell_type": "code",
   "execution_count": 58,
   "id": "260f60fa-102a-4c08-b43e-3a68888661ac",
   "metadata": {},
   "outputs": [
    {
     "name": "stdout",
     "output_type": "stream",
     "text": [
      "Hlowrd\n",
      "Hlwl\n"
     ]
    }
   ],
   "source": [
    "# Striding of string.\n",
    "\n",
    "msg=\"Hello world\"   # alternate element.  msg[starting value:ending value: skip value]   n-1= 1-1=0 2-1=1\n",
    "print(msg[0:11:2]) \n",
    "print(msg[0:11:3])"
   ]
  },
  {
   "cell_type": "code",
   "execution_count": 61,
   "id": "ef11d5b1-5170-48a4-983e-f6eed7b1d8c6",
   "metadata": {},
   "outputs": [
    {
     "name": "stdout",
     "output_type": "stream",
     "text": [
      "Hello world\n",
      "Hlowrd\n",
      "Hlwl\n"
     ]
    }
   ],
   "source": [
    "print(msg[::])\n",
    "print(msg[::2])\n",
    "print(msg[::3])"
   ]
  },
  {
   "cell_type": "code",
   "execution_count": 63,
   "id": "ae7e485f-7810-458b-938a-697acb1f9648",
   "metadata": {},
   "outputs": [
    {
     "name": "stdout",
     "output_type": "stream",
     "text": [
      "Hlo\n",
      "wrd\n"
     ]
    }
   ],
   "source": [
    "print(msg[:6:2])\n",
    "print(msg[6::2])"
   ]
  },
  {
   "cell_type": "code",
   "execution_count": 66,
   "id": "ed10568f-dc41-4608-b36a-ef31640b2943",
   "metadata": {},
   "outputs": [
    {
     "name": "stdout",
     "output_type": "stream",
     "text": [
      "Hello world How many people are living on the earth?\n"
     ]
    }
   ],
   "source": [
    "# Concatenation inside the string.\n",
    "message=\"Hello world \"\n",
    "question=\"How many people are living on the earth?\"\n",
    "statement=message+question\n",
    "print(statement)"
   ]
  },
  {
   "cell_type": "markdown",
   "id": "ca09f79c-76f2-4f00-aaf1-89b5c6eebabe",
   "metadata": {},
   "source": [
    "#  Escape Sequence"
   ]
  },
  {
   "cell_type": "code",
   "execution_count": 68,
   "id": "e98ea821-ce1e-4b56-b949-640019c23887",
   "metadata": {},
   "outputs": [
    {
     "name": "stdout",
     "output_type": "stream",
     "text": [
      "Hello world \n",
      "How many people are living on the earth?\n"
     ]
    }
   ],
   "source": [
    "message=\"Hello world \"\n",
    "question=\"\\nHow many people are living on the earth?\"  # \\n -> To change the new line.\n",
    "statement=message+question\n",
    "print(statement)"
   ]
  },
  {
   "cell_type": "code",
   "execution_count": 73,
   "id": "a9f2f708-a149-4fdf-a566-bbf941bae974",
   "metadata": {},
   "outputs": [
    {
     "name": "stdout",
     "output_type": "stream",
     "text": [
      "\\\\\n"
     ]
    }
   ],
   "source": [
    "print('\\\\\\\\')  #\\\\"
   ]
  },
  {
   "cell_type": "code",
   "execution_count": 75,
   "id": "76d61725-4451-443e-99e6-919a89203d91",
   "metadata": {},
   "outputs": [
    {
     "name": "stdout",
     "output_type": "stream",
     "text": [
      "\n",
      "\n"
     ]
    }
   ],
   "source": [
    "print('\\n')"
   ]
  },
  {
   "cell_type": "markdown",
   "id": "42c4a1cd-f260-499b-8d5a-b0bb6e9731fe",
   "metadata": {},
   "source": [
    "# String Operations"
   ]
  },
  {
   "cell_type": "code",
   "execution_count": 79,
   "id": "42baee08-e1bf-434c-9396-d4d302546605",
   "metadata": {},
   "outputs": [
    {
     "name": "stdout",
     "output_type": "stream",
     "text": [
      "HELLO WORLD\n",
      "hello world\n",
      "Hello World\n",
      "Hello world\n"
     ]
    }
   ],
   "source": [
    "# Upper case(): All capital letter\n",
    "\n",
    "message=\"hello world\"\n",
    "print(message.upper())\n",
    "\n",
    "\n",
    "# lower case\n",
    "message1=\"HELLO WORLD\"\n",
    "print(message1.lower())\n",
    "\n",
    "\n",
    "# title: \n",
    "message2=\"hello world\"\n",
    "print(message2.title())\n",
    "\n",
    "# capitalize(): Only first character will be in upper after all charcater will be in smaller.\n",
    "\n",
    "msg1=\"hello world\"\n",
    "print(msg1.capitalize())"
   ]
  },
  {
   "cell_type": "code",
   "execution_count": 80,
   "id": "f8894bff-63fc-4a66-8141-f2b91192e2dd",
   "metadata": {},
   "outputs": [
    {
     "name": "stdout",
     "output_type": "stream",
     "text": [
      "hello Amruta\n"
     ]
    }
   ],
   "source": [
    "# replace(): it takes two parameter.\n",
    "\n",
    "x='hello world'\n",
    "print(x.replace('world','Amruta'))\n"
   ]
  },
  {
   "cell_type": "code",
   "execution_count": 82,
   "id": "ae43bda8-4b5b-491b-8b2b-6ff68d31064c",
   "metadata": {},
   "outputs": [
    {
     "name": "stdout",
     "output_type": "stream",
     "text": [
      "hello world\n",
      "0\n"
     ]
    }
   ],
   "source": [
    "# find() : find returns the index value of the first character.\n",
    "print(x)\n",
    "print(x.find('hello'))\n"
   ]
  },
  {
   "cell_type": "code",
   "execution_count": 86,
   "id": "033d2506-baea-411b-a60f-8670511c80a4",
   "metadata": {},
   "outputs": [
    {
     "name": "stdout",
     "output_type": "stream",
     "text": [
      "2\n",
      "9\n",
      "3\n"
     ]
    }
   ],
   "source": [
    "x=\"Hello world\"\n",
    "print(x.find('l'))\n",
    "print(x.find('ld'))\n",
    "print(x.find('lo'))"
   ]
  },
  {
   "cell_type": "code",
   "execution_count": 90,
   "id": "21b71692-5503-4491-885b-267d733fb4b6",
   "metadata": {},
   "outputs": [
    {
     "name": "stdout",
     "output_type": "stream",
     "text": [
      "Hello world\n",
      "-1\n"
     ]
    }
   ],
   "source": [
    "print(x)\n",
    "print(x.find('python'))  # if it can't find the index value it will be return -1"
   ]
  },
  {
   "cell_type": "code",
   "execution_count": 97,
   "id": "a15792d7-8f3d-4106-b2a0-7cf7a989b538",
   "metadata": {},
   "outputs": [
    {
     "name": "stdout",
     "output_type": "stream",
     "text": [
      "Hello Amruta\n",
      "Hello World\n",
      "Hello Python\n",
      "Hi, My name is Amruta and I am 38 Years old.\n",
      "Hi, My name is 38 and I am Amruta Years old.\n",
      "Hi, My name is 35 and I am Amruta Years old.\n"
     ]
    }
   ],
   "source": [
    "# format() method\n",
    "\n",
    "# The format() method formats the specified values and insert them inside the string placeholder. \n",
    "# The placeholder is defined using the cruly brackets.\n",
    "\n",
    "txt=\"Hello {word}\"\n",
    "print(txt.format(word=\"Amruta\"))\n",
    "print(txt.format(word=\"World\"))\n",
    "print(txt.format(word='Python'))\n",
    "\n",
    "message1=\"Hi, My name is {} and I am {} Years old.\"\n",
    "print(message1.format('Amruta',38))\n",
    "print(message1.format(38,'Amruta'))  #  I/O\n",
    "\n",
    "\n",
    "message2='Hi, My name is {1} and I am {0} Years old.'\n",
    "print(message2.format('Amruta',35))"
   ]
  },
  {
   "cell_type": "code",
   "execution_count": 100,
   "id": "cb07f911-1539-4c8e-bc88-201aafa411c2",
   "metadata": {},
   "outputs": [
    {
     "name": "stdout",
     "output_type": "stream",
     "text": [
      "Hi, My name is Amruta and I am 35 Years old. I belong from Pune.\n",
      "Hi, My name is Anushtha and I am 40 Years old. I belong from Lucknow.\n"
     ]
    }
   ],
   "source": [
    "message2='Hi, My name is {a} and I am {b} Years old. I belong from {c}.'\n",
    "print(message2.format(a=\"Amruta\",b=35,c='Pune'))\n",
    "print(message2.format(a=\"Anushtha\",b=40,c='Lucknow'))"
   ]
  },
  {
   "cell_type": "code",
   "execution_count": null,
   "id": "4ae52f38-6925-4469-86f8-6d0dcaa44daa",
   "metadata": {},
   "outputs": [],
   "source": []
  }
 ],
 "metadata": {
  "kernelspec": {
   "display_name": "Python 3 (ipykernel)",
   "language": "python",
   "name": "python3"
  },
  "language_info": {
   "codemirror_mode": {
    "name": "ipython",
    "version": 3
   },
   "file_extension": ".py",
   "mimetype": "text/x-python",
   "name": "python",
   "nbconvert_exporter": "python",
   "pygments_lexer": "ipython3",
   "version": "3.12.2"
  }
 },
 "nbformat": 4,
 "nbformat_minor": 5
}
