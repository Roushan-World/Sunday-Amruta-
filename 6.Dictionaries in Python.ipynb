{
 "cells": [
  {
   "cell_type": "markdown",
   "id": "c3786116-4bfd-4552-92cd-7dd3eea45572",
   "metadata": {},
   "source": [
    "# Dictionaries in Python\n",
    "\n",
    " * __Dictionaries are used to store data values in key:value pair.__\n",
    " * __A dictionary is a collections which is ordered, changeable or mutable and do not allow duplicate.__\n",
    " * __Dictionary items are ordered, changeable, and does not allow duplicate.__\n",
    " * __Dictionary items apre presented in key:value pair and can be referred to by using the key name.__\n",
    " * __Dictionaries are changeable, meaning that we can change, add or remove items after the dicitonary has been created.__\n",
    " * __Dictionaries cannot have two items with the same key.__\n",
    " * __A dictionary can nested and can contain another dictionary.__\n",
    "   * __Key__ : __values__\n",
    "   * __'name'__:__\"Bob\"__\n",
    "   * __'age'__:__25__\n",
    "   * __'job'__:__'Dev'__\n",
    "   * __'city'__:__'New York'__"
   ]
  },
  {
   "cell_type": "code",
   "execution_count": 24,
   "id": "621bedfe-d254-4c7b-8775-fc36c2f901c7",
   "metadata": {},
   "outputs": [
    {
     "data": {
      "text/plain": [
       "{'name': 'Amruta',\n",
       " 'age': 25,\n",
       " 'contact': '456123789',\n",
       " 'address': 'Pune',\n",
       " 'email': 'amruta@gmail.com'}"
      ]
     },
     "execution_count": 24,
     "metadata": {},
     "output_type": "execute_result"
    }
   ],
   "source": [
    "sample_dict={\n",
    "    'name':\"Amruta\",\n",
    "    'age':25,\n",
    "    'contact':'456123789',\n",
    "    'address':'Pune',\n",
    "    'email':'amruta@gmail.com'\n",
    "}\n",
    "sample_dict"
   ]
  },
  {
   "cell_type": "code",
   "execution_count": 2,
   "id": "b1df43b1-bf95-4c06-a9b6-ffdf86dc077a",
   "metadata": {},
   "outputs": [
    {
     "data": {
      "text/plain": [
       "dict_keys(['name', 'age', 'contact', 'address', 'email'])"
      ]
     },
     "execution_count": 2,
     "metadata": {},
     "output_type": "execute_result"
    }
   ],
   "source": [
    "# key() function\n",
    "\n",
    "sample_dict.keys()"
   ]
  },
  {
   "cell_type": "code",
   "execution_count": 4,
   "id": "7a261ec6-93b9-42a2-8eea-83afb0524efb",
   "metadata": {},
   "outputs": [
    {
     "data": {
      "text/plain": [
       "dict_values(['Amruta', 25, '456123789', 'Pune', 'amruta@gmail.com'])"
      ]
     },
     "execution_count": 4,
     "metadata": {},
     "output_type": "execute_result"
    }
   ],
   "source": [
    "# values() function\n",
    "\n",
    "sample_dict.values()"
   ]
  },
  {
   "cell_type": "code",
   "execution_count": 5,
   "id": "168ecf5d-c07d-46a1-a7fa-79551f93d78b",
   "metadata": {},
   "outputs": [
    {
     "ename": "KeyError",
     "evalue": "0",
     "output_type": "error",
     "traceback": [
      "\u001b[1;31m---------------------------------------------------------------------------\u001b[0m",
      "\u001b[1;31mKeyError\u001b[0m                                  Traceback (most recent call last)",
      "Cell \u001b[1;32mIn[5], line 3\u001b[0m\n\u001b[0;32m      1\u001b[0m \u001b[38;5;66;03m# Accessing to the value using key name not with the index value.\u001b[39;00m\n\u001b[1;32m----> 3\u001b[0m \u001b[38;5;28mprint\u001b[39m(\u001b[43msample_dict\u001b[49m\u001b[43m[\u001b[49m\u001b[38;5;241;43m0\u001b[39;49m\u001b[43m]\u001b[49m)\n",
      "\u001b[1;31mKeyError\u001b[0m: 0"
     ]
    }
   ],
   "source": [
    "# Accessing to the value using key name not with the index value.\n",
    "\n",
    "print(sample_dict[0])"
   ]
  },
  {
   "cell_type": "code",
   "execution_count": 10,
   "id": "1fc3afd5-83a3-4523-b9d1-5522421935b4",
   "metadata": {},
   "outputs": [
    {
     "name": "stdout",
     "output_type": "stream",
     "text": [
      "Amruta\n",
      "25\n",
      "456123789\n",
      "Pune\n",
      "amruta@gmail.com\n"
     ]
    }
   ],
   "source": [
    "print(sample_dict['name'])\n",
    "print(sample_dict['age'])\n",
    "print(sample_dict['contact'])\n",
    "print(sample_dict['address'])\n",
    "print(sample_dict['email'])"
   ]
  },
  {
   "cell_type": "code",
   "execution_count": 12,
   "id": "8d9a176f-2911-4373-b539-d6dfd0ebf723",
   "metadata": {},
   "outputs": [
    {
     "data": {
      "text/plain": [
       "{'name': 'Amruta',\n",
       " 'age': 25,\n",
       " 'contact': '456123789',\n",
       " 'address': 'Pune',\n",
       " 'email': 'amruta@gmail.com',\n",
       " 'roll_no': 101}"
      ]
     },
     "execution_count": 12,
     "metadata": {},
     "output_type": "execute_result"
    }
   ],
   "source": [
    "# adding new value inside the dictionary.\n",
    "\n",
    "sample_dict['roll_no'] = 101\n",
    "sample_dict"
   ]
  },
  {
   "cell_type": "code",
   "execution_count": 13,
   "id": "0a5c4020-6aaa-41cc-93eb-f9b322a61ecc",
   "metadata": {},
   "outputs": [
    {
     "data": {
      "text/plain": [
       "{'name': 'Amruta',\n",
       " 'age': 25,\n",
       " 'contact': '456123789',\n",
       " 'address': 'Pune',\n",
       " 'email': 'amruta@gmail.com',\n",
       " 'roll_no': 120}"
      ]
     },
     "execution_count": 13,
     "metadata": {},
     "output_type": "execute_result"
    }
   ],
   "source": [
    "# updating the using key:value\n",
    "sample_dict['roll_no'] = 120\n",
    "sample_dict"
   ]
  },
  {
   "cell_type": "code",
   "execution_count": 16,
   "id": "f7638b7e-d8f7-4946-a621-434c9c2c27be",
   "metadata": {},
   "outputs": [
    {
     "data": {
      "text/plain": [
       "{'name': 'Amruta Juturu',\n",
       " 'age': 25,\n",
       " 'contact': '456123789',\n",
       " 'address': 'Pune',\n",
       " 'email': 'amruta@gmail.com',\n",
       " 'roll_no': 120}"
      ]
     },
     "execution_count": 16,
     "metadata": {},
     "output_type": "execute_result"
    }
   ],
   "source": [
    "sample_dict['name'] =\"Amruta Juturu\"\n",
    "sample_dict"
   ]
  },
  {
   "cell_type": "code",
   "execution_count": 17,
   "id": "352be7c3-b867-42c7-9c4e-4fae942f508c",
   "metadata": {},
   "outputs": [
    {
     "data": {
      "text/plain": [
       "{'name': 'Amruta Juturu',\n",
       " 'age': 25,\n",
       " 'contact': '456123789',\n",
       " 'address': 'Pune',\n",
       " 'email': 'amruta@gmail.com'}"
      ]
     },
     "execution_count": 17,
     "metadata": {},
     "output_type": "execute_result"
    }
   ],
   "source": [
    "# Deleting the value inside the key\n",
    "\n",
    "del(sample_dict['roll_no'])\n",
    "sample_dict"
   ]
  },
  {
   "cell_type": "code",
   "execution_count": 18,
   "id": "0795c166-6437-4854-a2e6-cf50e0032492",
   "metadata": {},
   "outputs": [],
   "source": [
    "del(sample_dict)"
   ]
  },
  {
   "cell_type": "code",
   "execution_count": 19,
   "id": "5b20c590-8110-4fc0-9c78-f259da6879de",
   "metadata": {},
   "outputs": [
    {
     "ename": "NameError",
     "evalue": "name 'sample_dict' is not defined",
     "output_type": "error",
     "traceback": [
      "\u001b[1;31m---------------------------------------------------------------------------\u001b[0m",
      "\u001b[1;31mNameError\u001b[0m                                 Traceback (most recent call last)",
      "Cell \u001b[1;32mIn[19], line 1\u001b[0m\n\u001b[1;32m----> 1\u001b[0m \u001b[43msample_dict\u001b[49m\n",
      "\u001b[1;31mNameError\u001b[0m: name 'sample_dict' is not defined"
     ]
    }
   ],
   "source": [
    "sample_dict"
   ]
  },
  {
   "cell_type": "code",
   "execution_count": 21,
   "id": "51466dd9-bad7-4fec-84bb-0a7c4a5cd6f8",
   "metadata": {},
   "outputs": [
    {
     "data": {
      "text/plain": [
       "{'name': 'Amruta',\n",
       " 'age': 25,\n",
       " 'contact': '456123789',\n",
       " 'address': 'Pune',\n",
       " 'email': 'amruta@gmail.com'}"
      ]
     },
     "execution_count": 21,
     "metadata": {},
     "output_type": "execute_result"
    }
   ],
   "source": [
    "sample_dict"
   ]
  },
  {
   "cell_type": "code",
   "execution_count": 22,
   "id": "610b55b9-f97b-498f-89a0-77d347a597fb",
   "metadata": {},
   "outputs": [],
   "source": [
    "sample_dict.clear()"
   ]
  },
  {
   "cell_type": "code",
   "execution_count": 23,
   "id": "f16b1abb-4c7a-4a08-9dc2-92f2845782a2",
   "metadata": {},
   "outputs": [
    {
     "data": {
      "text/plain": [
       "{}"
      ]
     },
     "execution_count": 23,
     "metadata": {},
     "output_type": "execute_result"
    }
   ],
   "source": [
    "sample_dict"
   ]
  },
  {
   "cell_type": "code",
   "execution_count": 25,
   "id": "490febbf-e2b6-4fbb-899d-e45b4b8f7565",
   "metadata": {},
   "outputs": [
    {
     "data": {
      "text/plain": [
       "{'name': 'Amruta',\n",
       " 'age': 25,\n",
       " 'contact': '456123789',\n",
       " 'address': 'Pune',\n",
       " 'email': 'amruta@gmail.com'}"
      ]
     },
     "execution_count": 25,
     "metadata": {},
     "output_type": "execute_result"
    }
   ],
   "source": [
    "# popitem() function : It is used to remove the arbitrary items from the dictionary and returns as a tuple.\n",
    "\n",
    "sample_dict"
   ]
  },
  {
   "cell_type": "code",
   "execution_count": 26,
   "id": "f329df7c-b630-4c37-8a19-46efd1450ef8",
   "metadata": {},
   "outputs": [
    {
     "name": "stdout",
     "output_type": "stream",
     "text": [
      "('email', 'amruta@gmail.com')\n"
     ]
    }
   ],
   "source": [
    "print(sample_dict.popitem())"
   ]
  },
  {
   "cell_type": "code",
   "execution_count": 28,
   "id": "b8c951cb-29f6-424d-8c3d-ac11d65f6a1c",
   "metadata": {},
   "outputs": [
    {
     "name": "stdout",
     "output_type": "stream",
     "text": [
      "{'name': 'Amruta', 'age': 25, 'contact': '456123789', 'address': 'Pune'}\n"
     ]
    }
   ],
   "source": [
    "print(sample_dict)"
   ]
  },
  {
   "cell_type": "code",
   "execution_count": 30,
   "id": "e638c751-b5db-4b21-ba9b-0cb405d15b57",
   "metadata": {},
   "outputs": [
    {
     "data": {
      "text/plain": [
       "{'name': 'Amruta', 'age': 25, 'contact': '456123789', 'address': 'Pune'}"
      ]
     },
     "execution_count": 30,
     "metadata": {},
     "output_type": "execute_result"
    }
   ],
   "source": [
    "# get() function : This method returns the value for the specified key if it is available in the dictionary. \n",
    "# If the key is not present inside the dictionary it returns None.\n",
    "sample_dict"
   ]
  },
  {
   "cell_type": "code",
   "execution_count": 32,
   "id": "4268345e-8d9b-4b2e-afc9-f23efac7dd2e",
   "metadata": {},
   "outputs": [
    {
     "ename": "KeyError",
     "evalue": "'name1'",
     "output_type": "error",
     "traceback": [
      "\u001b[1;31m---------------------------------------------------------------------------\u001b[0m",
      "\u001b[1;31mKeyError\u001b[0m                                  Traceback (most recent call last)",
      "Cell \u001b[1;32mIn[32], line 2\u001b[0m\n\u001b[0;32m      1\u001b[0m \u001b[38;5;66;03m# Accessing value.\u001b[39;00m\n\u001b[1;32m----> 2\u001b[0m \u001b[43msample_dict\u001b[49m\u001b[43m[\u001b[49m\u001b[38;5;124;43m'\u001b[39;49m\u001b[38;5;124;43mname1\u001b[39;49m\u001b[38;5;124;43m'\u001b[39;49m\u001b[43m]\u001b[49m\n",
      "\u001b[1;31mKeyError\u001b[0m: 'name1'"
     ]
    }
   ],
   "source": [
    "# Accessing value.\n",
    "sample_dict['name1']"
   ]
  },
  {
   "cell_type": "code",
   "execution_count": 33,
   "id": "7d6ae7f0-b846-43e7-876a-3a4c79b3297f",
   "metadata": {},
   "outputs": [
    {
     "data": {
      "text/plain": [
       "'Amruta'"
      ]
     },
     "execution_count": 33,
     "metadata": {},
     "output_type": "execute_result"
    }
   ],
   "source": [
    "# get() method\n",
    "\n",
    "sample_dict.get('name')"
   ]
  },
  {
   "cell_type": "code",
   "execution_count": 35,
   "id": "72938ae6-b006-447f-9676-b447d2be0256",
   "metadata": {},
   "outputs": [
    {
     "name": "stdout",
     "output_type": "stream",
     "text": [
      "None\n"
     ]
    }
   ],
   "source": [
    "print(sample_dict.get('name1'))"
   ]
  },
  {
   "cell_type": "markdown",
   "id": "3999975c-9793-4cf4-81ca-0963b0353d4b",
   "metadata": {},
   "source": [
    "# fromkeys() function\n",
    " * __It returns a new dicitonary with the certain sequence of the items as the keys of thye dicitonary and the values are assigned with None.__"
   ]
  },
  {
   "cell_type": "code",
   "execution_count": 36,
   "id": "6583f557-610c-4383-a6d3-ef44da80a34b",
   "metadata": {},
   "outputs": [
    {
     "name": "stdout",
     "output_type": "stream",
     "text": [
      "{'email': None, 'age': None, 'Name': None}\n"
     ]
    }
   ],
   "source": [
    "keys={'Name','age','email'}\n",
    "sequence=dict.fromkeys(keys)\n",
    "print(sequence)"
   ]
  },
  {
   "cell_type": "code",
   "execution_count": 37,
   "id": "7ed4598f-9730-469e-9efd-a743b6b3e8ed",
   "metadata": {},
   "outputs": [
    {
     "data": {
      "text/plain": [
       "{'email': None, 'age': None, 'Name': 'Amruta Juturu'}"
      ]
     },
     "execution_count": 37,
     "metadata": {},
     "output_type": "execute_result"
    }
   ],
   "source": [
    "sequence['Name']=\"Amruta Juturu\"\n",
    "sequence"
   ]
  },
  {
   "cell_type": "code",
   "execution_count": 38,
   "id": "d06f3db0-911f-4e3d-863f-21537838d403",
   "metadata": {},
   "outputs": [
    {
     "data": {
      "text/plain": [
       "{'name': 'Amruta', 'age': 25, 'contact': '456123789', 'address': 'Pune'}"
      ]
     },
     "execution_count": 38,
     "metadata": {},
     "output_type": "execute_result"
    }
   ],
   "source": [
    "# items() function: it return all keys and values inside the tuple\n",
    "sample_dict"
   ]
  },
  {
   "cell_type": "code",
   "execution_count": 39,
   "id": "39e89cf7-712b-4350-aef0-1abeef5177a3",
   "metadata": {},
   "outputs": [
    {
     "data": {
      "text/plain": [
       "dict_items([('name', 'Amruta'), ('age', 25), ('contact', '456123789'), ('address', 'Pune')])"
      ]
     },
     "execution_count": 39,
     "metadata": {},
     "output_type": "execute_result"
    }
   ],
   "source": [
    "sample_dict.items()"
   ]
  },
  {
   "cell_type": "code",
   "execution_count": null,
   "id": "a5804c45-15a4-48e8-82bc-d62237ac334e",
   "metadata": {},
   "outputs": [],
   "source": []
  }
 ],
 "metadata": {
  "kernelspec": {
   "display_name": "Python 3 (ipykernel)",
   "language": "python",
   "name": "python3"
  },
  "language_info": {
   "codemirror_mode": {
    "name": "ipython",
    "version": 3
   },
   "file_extension": ".py",
   "mimetype": "text/x-python",
   "name": "python",
   "nbconvert_exporter": "python",
   "pygments_lexer": "ipython3",
   "version": "3.12.2"
  }
 },
 "nbformat": 4,
 "nbformat_minor": 5
}
