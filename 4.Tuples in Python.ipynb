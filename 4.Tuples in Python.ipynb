{
 "cells": [
  {
   "cell_type": "markdown",
   "id": "bd63a046-756e-4c0b-8c55-4a7738ace419",
   "metadata": {},
   "source": [
    "# 4. Tuples in Python\n",
    "\n",
    " * __Tuples are immutable list and connot be changed in any way if once is it created.__\n",
    " * __Tuples are defined in the same way as lists.__\n",
    " * __They are enclosed with parenthesis () and not within square braces. []__\n",
    " * __Tuples are ordered, indexed collections of data.__\n",
    " * __Similary to string indices, the first value is [0] and the second value is [1].__\n",
    " * __Negative indices are counted from the end of the tuple, just like list.__\n",
    " * __Tuple also has the same structure where commas separated the values.__\n",
    " * __Tuples allow you to store several data items including string, integer, float in one variable.__"
   ]
  },
  {
   "cell_type": "code",
   "execution_count": 3,
   "id": "22a9a99b-7d35-40b7-9897-3ebe4c323044",
   "metadata": {},
   "outputs": [
    {
     "name": "stdout",
     "output_type": "stream",
     "text": [
      "[1]\n",
      "<class 'list'>\n"
     ]
    }
   ],
   "source": [
    "x=[1]\n",
    "print(x)\n",
    "print(type(x))"
   ]
  },
  {
   "cell_type": "code",
   "execution_count": 7,
   "id": "6f03aa85-caaa-4ff5-a17c-9245acc84c71",
   "metadata": {},
   "outputs": [
    {
     "name": "stdout",
     "output_type": "stream",
     "text": [
      "(1,)\n",
      "<class 'tuple'>\n"
     ]
    }
   ],
   "source": [
    "tuple1=(1,)\n",
    "print(tuple1)\n",
    "print(type(tuple1))"
   ]
  },
  {
   "cell_type": "code",
   "execution_count": 10,
   "id": "af532a0d-8133-4582-a881-d91b63067e34",
   "metadata": {},
   "outputs": [
    {
     "name": "stdout",
     "output_type": "stream",
     "text": [
      "('Hello world', 'Python', 100, 200, 3.14, True, False, [1, 2, 3], ('Hello World', 'True', 'False'), 4800)\n",
      "<class 'tuple'>\n"
     ]
    }
   ],
   "source": [
    "tuple_1=('Hello world','Python',100,200,3.14,True,False,[1,2,3],('Hello World','True','False'),4800)\n",
    "print(tuple_1)\n",
    "print(type(tuple_1))"
   ]
  },
  {
   "cell_type": "code",
   "execution_count": 24,
   "id": "5466b3a3-abf9-444b-8616-c9dc59b8f357",
   "metadata": {},
   "outputs": [
    {
     "name": "stdout",
     "output_type": "stream",
     "text": [
      "Hello world\n",
      "<class 'str'>\n",
      "Python\n",
      "<class 'str'>\n",
      "100\n",
      "<class 'int'>\n",
      "200\n",
      "<class 'int'>\n",
      "3.14\n",
      "<class 'float'>\n",
      "True\n",
      "<class 'bool'>\n",
      "False\n",
      "<class 'bool'>\n",
      "[1, 2, 3]\n",
      "<class 'list'>\n",
      "('Hello World', 'True', 'False')\n",
      "<class 'tuple'>\n",
      "4800\n",
      "<class 'int'>\n",
      "('Hello world', 'Python', 100, 200, 3.14, True, False, [1, 2, 3], ('Hello World', 'True', 'False'), 4800)\n"
     ]
    }
   ],
   "source": [
    "# Accessing element of tuple with their index value.\n",
    "\n",
    "print(tuple_1[0])\n",
    "print(type(tuple_1[0]))\n",
    "\n",
    "print(tuple_1[1])\n",
    "print(type(tuple_1[1]))\n",
    "\n",
    "print(tuple_1[2])\n",
    "print(type(tuple_1[2]))\n",
    "\n",
    "print(tuple_1[3])\n",
    "print(type(tuple_1[3]))\n",
    "\n",
    "print(tuple_1[4])\n",
    "print(type(tuple_1[4]))\n",
    "\n",
    "\n",
    "print(tuple_1[5])\n",
    "print(type(tuple_1[5]))\n",
    "\n",
    "\n",
    "print(tuple_1[6])\n",
    "print(type(tuple_1[6]))\n",
    "\n",
    "print(tuple_1[7])\n",
    "print(type(tuple_1[7]))\n",
    "\n",
    "\n",
    "print(tuple_1[8])\n",
    "print(type(tuple_1[8]))\n",
    "\n",
    "print(tuple_1[9])\n",
    "print(type(tuple_1[9]))\n",
    "print(tuple_1)"
   ]
  },
  {
   "cell_type": "code",
   "execution_count": 25,
   "id": "7d4a0f57-d13a-4c47-9acc-2180ecbf03c7",
   "metadata": {},
   "outputs": [
    {
     "name": "stdout",
     "output_type": "stream",
     "text": [
      "4800\n"
     ]
    }
   ],
   "source": [
    "# Accessing element with negative index value\n",
    "print(tuple_1[-1])"
   ]
  },
  {
   "cell_type": "code",
   "execution_count": 29,
   "id": "f971cd05-d771-454c-816f-378e632a423c",
   "metadata": {},
   "outputs": [
    {
     "name": "stdout",
     "output_type": "stream",
     "text": [
      "('Hello world', 'Python', 100, 200, 3.14, True, False, [1, 2, 3], ('Hello World', 'True', 'False'), 4800, 'Hello world', 45, 89, 789, ('Amruta', 4500))\n"
     ]
    }
   ],
   "source": [
    "# Concatenation of tuples\n",
    "# To concatenate tuples + sign is used.\n",
    "\n",
    "tuple_2=tuple_1+('Hello world',45,89,789,('Amruta',4500))\n",
    "print(tuple_2)"
   ]
  },
  {
   "cell_type": "code",
   "execution_count": 37,
   "id": "28fb2ae1-f213-411d-bbfa-525e5362ab5a",
   "metadata": {},
   "outputs": [
    {
     "data": {
      "text/plain": [
       "3"
      ]
     },
     "execution_count": 37,
     "metadata": {},
     "output_type": "execute_result"
    }
   ],
   "source": [
    "tuple_2[7][2]"
   ]
  },
  {
   "cell_type": "code",
   "execution_count": 31,
   "id": "17266345-14dc-47c5-a25e-c5fe59c72c5d",
   "metadata": {},
   "outputs": [
    {
     "data": {
      "text/plain": [
       "(1, 2, 3, 4, 1, 2, 3, 4, 1, 2, 3, 4)"
      ]
     },
     "execution_count": 31,
     "metadata": {},
     "output_type": "execute_result"
    }
   ],
   "source": [
    "# Repetation of tuple\n",
    "\n",
    "rep_tup=(1,2,3,4)\n",
    "\n",
    "rep_tup*3"
   ]
  },
  {
   "cell_type": "markdown",
   "id": "135250e8-9a55-4b37-a99c-4d08ae4691dc",
   "metadata": {},
   "source": [
    "# Membership value"
   ]
  },
  {
   "cell_type": "code",
   "execution_count": 42,
   "id": "feb0258d-c6ba-4365-ba8f-262fd0465e08",
   "metadata": {},
   "outputs": [
    {
     "name": "stdout",
     "output_type": "stream",
     "text": [
      "True\n",
      "True\n",
      "False\n",
      "True\n"
     ]
    }
   ],
   "source": [
    "rep_tup=(1,2,3,4)\n",
    "\n",
    "print(2 in rep_tup)\n",
    "print(3 in rep_tup)\n",
    "print(100 in rep_tup)\n",
    "print(120 not in rep_tup)"
   ]
  },
  {
   "cell_type": "code",
   "execution_count": 43,
   "id": "327d1cf9-f50e-4779-82bf-54aba7b81ae5",
   "metadata": {},
   "outputs": [
    {
     "data": {
      "text/plain": [
       "('Hello world',\n",
       " 'Python',\n",
       " 100,\n",
       " 200,\n",
       " 3.14,\n",
       " True,\n",
       " False,\n",
       " [1, 2, 3],\n",
       " ('Hello World', 'True', 'False'),\n",
       " 4800,\n",
       " 'Hello world',\n",
       " 45,\n",
       " 89,\n",
       " 789,\n",
       " ('Amruta', 4500))"
      ]
     },
     "execution_count": 43,
     "metadata": {},
     "output_type": "execute_result"
    }
   ],
   "source": [
    "tuple_2"
   ]
  },
  {
   "cell_type": "code",
   "execution_count": 44,
   "id": "7a87a421-27dd-4b6d-b98c-e7e37edc77a8",
   "metadata": {},
   "outputs": [
    {
     "data": {
      "text/plain": [
       "15"
      ]
     },
     "execution_count": 44,
     "metadata": {},
     "output_type": "execute_result"
    }
   ],
   "source": [
    "len(tuple_2)"
   ]
  },
  {
   "cell_type": "code",
   "execution_count": 50,
   "id": "0e244d19-93b6-4bbe-a32c-ffe6c6591377",
   "metadata": {},
   "outputs": [
    {
     "name": "stdout",
     "output_type": "stream",
     "text": [
      "[0, 2, 5, 6, 9, 30, 40, 45, 45, 78]\n",
      "<class 'tuple'>\n",
      "<class 'list'>\n"
     ]
    }
   ],
   "source": [
    "# Sorting tuple  : ascending -> descending the data.\n",
    "\n",
    "tuple_3=(0,9,2,5,6,30,40,45,78,45,)\n",
    "sorted_tuple_3=sorted(tuple_3)\n",
    "print(sorted_tuple_3)\n",
    "print(type(tuple_3))\n",
    "print(type(sorted_tuple_3))"
   ]
  },
  {
   "cell_type": "code",
   "execution_count": 51,
   "id": "c86eb7cb-b4b5-4f58-8794-c6df89509afc",
   "metadata": {},
   "outputs": [
    {
     "data": {
      "text/plain": [
       "['Hello Amruta', 10, 20]"
      ]
     },
     "execution_count": 51,
     "metadata": {},
     "output_type": "execute_result"
    }
   ],
   "source": [
    "# Tuple are immutable data type of list\n",
    "\n",
    "list1=['Hello Amruta',10,20]\n",
    "list1"
   ]
  },
  {
   "cell_type": "code",
   "execution_count": 52,
   "id": "a1ef3e37-4bbe-4969-b6b4-2e19c8e65b66",
   "metadata": {},
   "outputs": [
    {
     "data": {
      "text/plain": [
       "['Amruta Juturu', 10, 20]"
      ]
     },
     "execution_count": 52,
     "metadata": {},
     "output_type": "execute_result"
    }
   ],
   "source": [
    "list1[0]='Amruta Juturu'\n",
    "list1"
   ]
  },
  {
   "cell_type": "code",
   "execution_count": 54,
   "id": "b64dc85c-3188-4394-b7f5-713de62615e3",
   "metadata": {},
   "outputs": [
    {
     "name": "stdout",
     "output_type": "stream",
     "text": [
      "('Hello Amruta', 10, 20)\n"
     ]
    }
   ],
   "source": [
    "tuple1=('Hello Amruta',10,20)\n",
    "print(tuple1)"
   ]
  },
  {
   "cell_type": "code",
   "execution_count": 56,
   "id": "d4c811f8-b00d-4ee2-8b81-c692a66a9426",
   "metadata": {},
   "outputs": [
    {
     "ename": "TypeError",
     "evalue": "'tuple' object does not support item assignment",
     "output_type": "error",
     "traceback": [
      "\u001b[1;31m---------------------------------------------------------------------------\u001b[0m",
      "\u001b[1;31mTypeError\u001b[0m                                 Traceback (most recent call last)",
      "Cell \u001b[1;32mIn[56], line 1\u001b[0m\n\u001b[1;32m----> 1\u001b[0m \u001b[43mtuple1\u001b[49m\u001b[43m[\u001b[49m\u001b[38;5;241;43m0\u001b[39;49m\u001b[43m]\u001b[49m\u001b[38;5;241m=\u001b[39m\u001b[38;5;124m'\u001b[39m\u001b[38;5;124mAmruta Juture\u001b[39m\u001b[38;5;124m'\u001b[39m\n\u001b[0;32m      2\u001b[0m tuple1\n",
      "\u001b[1;31mTypeError\u001b[0m: 'tuple' object does not support item assignment"
     ]
    }
   ],
   "source": [
    "tuple1[0]='Amruta Juture'\n",
    "tuple1"
   ]
  },
  {
   "cell_type": "code",
   "execution_count": 57,
   "id": "271fe679-1419-4365-b1c8-986f0dc275db",
   "metadata": {},
   "outputs": [
    {
     "ename": "TypeError",
     "evalue": "'tuple' object doesn't support item deletion",
     "output_type": "error",
     "traceback": [
      "\u001b[1;31m---------------------------------------------------------------------------\u001b[0m",
      "\u001b[1;31mTypeError\u001b[0m                                 Traceback (most recent call last)",
      "Cell \u001b[1;32mIn[57], line 4\u001b[0m\n\u001b[0;32m      1\u001b[0m \u001b[38;5;66;03m# deleting their element inside the tuple\u001b[39;00m\n\u001b[0;32m      3\u001b[0m tuple1\u001b[38;5;241m=\u001b[39m(\u001b[38;5;124m'\u001b[39m\u001b[38;5;124mHello Amruta\u001b[39m\u001b[38;5;124m'\u001b[39m,\u001b[38;5;241m10\u001b[39m,\u001b[38;5;241m20\u001b[39m)\n\u001b[1;32m----> 4\u001b[0m \u001b[38;5;28;01mdel\u001b[39;00m(\u001b[43mtuple1\u001b[49m\u001b[43m[\u001b[49m\u001b[38;5;241;43m0\u001b[39;49m\u001b[43m]\u001b[49m)\n",
      "\u001b[1;31mTypeError\u001b[0m: 'tuple' object doesn't support item deletion"
     ]
    }
   ],
   "source": [
    "# deleting their element inside the tuple\n",
    "\n",
    "tuple1=('Hello Amruta',10,20)\n",
    "del(tuple1[0])"
   ]
  },
  {
   "cell_type": "code",
   "execution_count": 58,
   "id": "934c0f5c-7631-4537-8119-38496ebf3728",
   "metadata": {},
   "outputs": [
    {
     "data": {
      "text/plain": [
       "('Hello Amruta', 10, 20)"
      ]
     },
     "execution_count": 58,
     "metadata": {},
     "output_type": "execute_result"
    }
   ],
   "source": [
    "# but you can delete the whole tuple: \n",
    "\n",
    "tuple1"
   ]
  },
  {
   "cell_type": "code",
   "execution_count": 59,
   "id": "bae90eb0-b49c-4007-ba24-e11a2d011b1c",
   "metadata": {},
   "outputs": [],
   "source": [
    "del(tuple1)"
   ]
  },
  {
   "cell_type": "code",
   "execution_count": 60,
   "id": "2418c485-781d-4234-ab89-6a7154f1e28d",
   "metadata": {},
   "outputs": [
    {
     "ename": "NameError",
     "evalue": "name 'tuple1' is not defined",
     "output_type": "error",
     "traceback": [
      "\u001b[1;31m---------------------------------------------------------------------------\u001b[0m",
      "\u001b[1;31mNameError\u001b[0m                                 Traceback (most recent call last)",
      "Cell \u001b[1;32mIn[60], line 1\u001b[0m\n\u001b[1;32m----> 1\u001b[0m \u001b[43mtuple1\u001b[49m\n",
      "\u001b[1;31mNameError\u001b[0m: name 'tuple1' is not defined"
     ]
    }
   ],
   "source": [
    "tuple1"
   ]
  },
  {
   "cell_type": "code",
   "execution_count": null,
   "id": "45f325ad-7ab8-4181-9960-da4697790275",
   "metadata": {},
   "outputs": [],
   "source": []
  }
 ],
 "metadata": {
  "kernelspec": {
   "display_name": "Python 3 (ipykernel)",
   "language": "python",
   "name": "python3"
  },
  "language_info": {
   "codemirror_mode": {
    "name": "ipython",
    "version": 3
   },
   "file_extension": ".py",
   "mimetype": "text/x-python",
   "name": "python",
   "nbconvert_exporter": "python",
   "pygments_lexer": "ipython3",
   "version": "3.12.2"
  }
 },
 "nbformat": 4,
 "nbformat_minor": 5
}
