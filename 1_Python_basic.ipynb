{
 "cells": [
  {
   "cell_type": "markdown",
   "id": "39109bd5-6a9b-4323-9ca3-8de2c05a06ee",
   "metadata": {},
   "source": [
    "# Python Basic"
   ]
  },
  {
   "cell_type": "code",
   "execution_count": 1,
   "id": "ab91f63a-895c-4db6-a7e1-c9c0034b775a",
   "metadata": {},
   "outputs": [
    {
     "name": "stdout",
     "output_type": "stream",
     "text": [
      "Amruta\n"
     ]
    }
   ],
   "source": [
    "# Python Basic\n",
    "\n",
    "print('Amruta')"
   ]
  },
  {
   "cell_type": "code",
   "execution_count": 3,
   "id": "434704da-5b2c-4c16-8c63-a5a92a91fbd8",
   "metadata": {},
   "outputs": [
    {
     "name": "stdout",
     "output_type": "stream",
     "text": [
      "Amruta\n"
     ]
    }
   ],
   "source": [
    "print('Amruta')"
   ]
  },
  {
   "cell_type": "code",
   "execution_count": 4,
   "id": "0f730557-8095-47b1-a7da-688bf35316a5",
   "metadata": {},
   "outputs": [],
   "source": [
    "# print() <-print is keyword to display your text."
   ]
  },
  {
   "cell_type": "code",
   "execution_count": 5,
   "id": "04f9f251-3079-4258-bdf3-99c74854efc6",
   "metadata": {},
   "outputs": [
    {
     "name": "stdout",
     "output_type": "stream",
     "text": [
      "My name is Amruta.\n"
     ]
    }
   ],
   "source": [
    "print('My name is Amruta.')"
   ]
  },
  {
   "cell_type": "code",
   "execution_count": 6,
   "id": "6e6d47d5-3007-4382-8372-161772b97778",
   "metadata": {},
   "outputs": [
    {
     "name": "stdout",
     "output_type": "stream",
     "text": [
      "Hello world\n"
     ]
    }
   ],
   "source": [
    "print(\"Hello world\")"
   ]
  },
  {
   "cell_type": "code",
   "execution_count": 8,
   "id": "c3c34c5c-a296-4241-b02f-cd0176a96b21",
   "metadata": {},
   "outputs": [
    {
     "name": "stdout",
     "output_type": "stream",
     "text": [
      "3.12.2 (tags/v3.12.2:6abddd9, Feb  6 2024, 21:26:36) [MSC v.1937 64 bit (AMD64)]\n"
     ]
    }
   ],
   "source": [
    "# How to check your python which is?\n",
    "\n",
    "import sys    # system related files imported here\n",
    "\n",
    "print(sys.version)   # it is a command to check python version."
   ]
  },
  {
   "cell_type": "code",
   "execution_count": 10,
   "id": "ea57a23f-1849-4bda-a185-411e48db2e2c",
   "metadata": {},
   "outputs": [
    {
     "name": "stdout",
     "output_type": "stream",
     "text": [
      "Hello world\n"
     ]
    }
   ],
   "source": [
    "print('Hello world')\n",
    "\n",
    "# ''  <- single quotes\n",
    "# \"\"  <- double quotes."
   ]
  },
  {
   "cell_type": "code",
   "execution_count": 9,
   "id": "93cbaea3-8f07-415a-b99d-29722ccb8f1c",
   "metadata": {},
   "outputs": [
    {
     "name": "stdout",
     "output_type": "stream",
     "text": [
      "Hello world\n"
     ]
    }
   ],
   "source": [
    "print(\"Hello world\")"
   ]
  },
  {
   "cell_type": "code",
   "execution_count": 11,
   "id": "ae3bda6c-0d76-468e-a9a0-0fd5c4bccf69",
   "metadata": {},
   "outputs": [
    {
     "ename": "SyntaxError",
     "evalue": "invalid syntax. Perhaps you forgot a comma? (3449611317.py, line 1)",
     "output_type": "error",
     "traceback": [
      "\u001b[1;36m  Cell \u001b[1;32mIn[11], line 1\u001b[1;36m\u001b[0m\n\u001b[1;33m    print(Hello world)\u001b[0m\n\u001b[1;37m          ^\u001b[0m\n\u001b[1;31mSyntaxError\u001b[0m\u001b[1;31m:\u001b[0m invalid syntax. Perhaps you forgot a comma?\n"
     ]
    }
   ],
   "source": [
    "print(Hello world)"
   ]
  },
  {
   "cell_type": "code",
   "execution_count": 13,
   "id": "6f4acad3-c0cb-4d8a-b49c-b56d8b921a54",
   "metadata": {},
   "outputs": [
    {
     "name": "stdout",
     "output_type": "stream",
     "text": [
      "Hello world\n"
     ]
    }
   ],
   "source": [
    "# comment <- it is a comment line. [comment line is not readable by server. It can only read by user.]\n",
    "print('Hello world')"
   ]
  },
  {
   "cell_type": "code",
   "execution_count": 1,
   "id": "9cbab037-07e8-4481-a039-c0d4104f125a",
   "metadata": {},
   "outputs": [
    {
     "name": "stdout",
     "output_type": "stream",
     "text": [
      "Hello world\n"
     ]
    }
   ],
   "source": [
    "# string -> collection of alphabet.\n",
    "\n",
    "print('Hello world')"
   ]
  },
  {
   "cell_type": "code",
   "execution_count": 2,
   "id": "1bf1cd15-02be-49a7-94a8-f34f615d9a95",
   "metadata": {},
   "outputs": [
    {
     "name": "stdout",
     "output_type": "stream",
     "text": [
      "Apple\n"
     ]
    }
   ],
   "source": [
    "print('Apple')"
   ]
  },
  {
   "cell_type": "code",
   "execution_count": 3,
   "id": "0e102c03-21ea-4911-97bb-275fbaa191a4",
   "metadata": {},
   "outputs": [
    {
     "name": "stdout",
     "output_type": "stream",
     "text": [
      "Boy\n"
     ]
    }
   ],
   "source": [
    "print('Boy')"
   ]
  },
  {
   "cell_type": "code",
   "execution_count": 5,
   "id": "f2955311-7c9a-46c0-b00b-e0565daa2f4b",
   "metadata": {},
   "outputs": [
    {
     "name": "stdout",
     "output_type": "stream",
     "text": [
      "a\n"
     ]
    }
   ],
   "source": [
    "print('a')"
   ]
  },
  {
   "cell_type": "code",
   "execution_count": 9,
   "id": "0fb41f23-a70a-4df6-9319-9977a086a8a7",
   "metadata": {},
   "outputs": [
    {
     "name": "stdout",
     "output_type": "stream",
     "text": [
      "100\n",
      "200\n",
      "3\n",
      "3.14\n",
      "3.0\n",
      "True\n"
     ]
    }
   ],
   "source": [
    "# some data types \n",
    "# Integer  # without the decimal is called integer\n",
    "print(100)\n",
    "print(200)\n",
    "print(3)\n",
    "\n",
    "\n",
    "# float  # decimal included value is called float\n",
    "print(3.14) \n",
    "print(3.0)  # 3\n",
    "\n",
    "# Boolean\n",
    "print(True)   # which value is equal to 1\n",
    "print(False)"
   ]
  },
  {
   "cell_type": "code",
   "execution_count": 12,
   "id": "2d1eaee9-74d0-420d-ba30-7a15968d1d2b",
   "metadata": {},
   "outputs": [
    {
     "name": "stdout",
     "output_type": "stream",
     "text": [
      "true\n",
      "True\n"
     ]
    }
   ],
   "source": [
    "print('true')   # \n",
    "print(True)    #  its value is 1."
   ]
  },
  {
   "cell_type": "code",
   "execution_count": 15,
   "id": "b1063635-7c7b-4bbd-818d-f06c31be2a00",
   "metadata": {},
   "outputs": [
    {
     "name": "stdout",
     "output_type": "stream",
     "text": [
      "True\n",
      "<class 'bool'>\n",
      "True\n",
      "<class 'str'>\n"
     ]
    }
   ],
   "source": [
    "# type() function\n",
    "print(True)\n",
    "print(type(True))\n",
    "print('True')\n",
    "print(type('True'))"
   ]
  },
  {
   "cell_type": "code",
   "execution_count": 17,
   "id": "f563c49c-bf1f-4a27-ab19-f280e425b3a3",
   "metadata": {},
   "outputs": [
    {
     "name": "stdout",
     "output_type": "stream",
     "text": [
      "100\n",
      "<class 'int'>\n",
      "100\n",
      "<class 'str'>\n"
     ]
    }
   ],
   "source": [
    "print(100)\n",
    "print(type(100))\n",
    "print('100')\n",
    "print(type('100'))"
   ]
  },
  {
   "cell_type": "code",
   "execution_count": 18,
   "id": "94242a6d-220e-43ad-89dd-dd8dabfaa90b",
   "metadata": {},
   "outputs": [
    {
     "name": "stdout",
     "output_type": "stream",
     "text": [
      "200\n"
     ]
    }
   ],
   "source": [
    "print(100+100)"
   ]
  },
  {
   "cell_type": "code",
   "execution_count": 19,
   "id": "4db0906c-96af-48be-b7d6-d434588a56d2",
   "metadata": {},
   "outputs": [
    {
     "name": "stdout",
     "output_type": "stream",
     "text": [
      "100100\n"
     ]
    }
   ],
   "source": [
    "print('100'+'100')"
   ]
  },
  {
   "cell_type": "code",
   "execution_count": 20,
   "id": "69f0346f-6347-4951-b663-7dac3f39866a",
   "metadata": {},
   "outputs": [
    {
     "name": "stdout",
     "output_type": "stream",
     "text": [
      "11\n"
     ]
    }
   ],
   "source": [
    "print(True+10)   #"
   ]
  },
  {
   "cell_type": "code",
   "execution_count": 22,
   "id": "3d0a6191-d1e1-463b-9825-02a604cf2f16",
   "metadata": {},
   "outputs": [
    {
     "name": "stdout",
     "output_type": "stream",
     "text": [
      "True10\n"
     ]
    }
   ],
   "source": [
    "print('True'+'10')  #"
   ]
  },
  {
   "cell_type": "code",
   "execution_count": 23,
   "id": "95ce0519-ca38-4cdb-adbf-0445ed33e9ed",
   "metadata": {},
   "outputs": [
    {
     "name": "stdout",
     "output_type": "stream",
     "text": [
      "10\n"
     ]
    }
   ],
   "source": [
    "print(False+10)"
   ]
  },
  {
   "cell_type": "code",
   "execution_count": 26,
   "id": "a79cefe3-56ce-472c-9f9f-64ff085accd4",
   "metadata": {},
   "outputs": [
    {
     "name": "stdout",
     "output_type": "stream",
     "text": [
      "-10\n"
     ]
    }
   ],
   "source": [
    "print(-False-10)"
   ]
  },
  {
   "cell_type": "code",
   "execution_count": 30,
   "id": "f3784f75-8177-4a5d-9c5a-b8bc791c077d",
   "metadata": {},
   "outputs": [
    {
     "name": "stdout",
     "output_type": "stream",
     "text": [
      "True\n",
      "False\n"
     ]
    }
   ],
   "source": [
    "print(bool(1))\n",
    "print(bool(0))"
   ]
  },
  {
   "cell_type": "code",
   "execution_count": 31,
   "id": "0ffb4729-05c7-4d91-885e-be258076a064",
   "metadata": {},
   "outputs": [
    {
     "name": "stdout",
     "output_type": "stream",
     "text": [
      "6\n"
     ]
    }
   ],
   "source": [
    "# Data typecasting.\n",
    "\n",
    "num =  6    #(= is assignment operator)\n",
    "print(num)"
   ]
  },
  {
   "cell_type": "code",
   "execution_count": 32,
   "id": "ad439db9-c99b-450d-8744-a22166c5e31e",
   "metadata": {},
   "outputs": [
    {
     "name": "stdout",
     "output_type": "stream",
     "text": [
      "6\n"
     ]
    }
   ],
   "source": [
    "number= 6\n",
    "print(number)"
   ]
  },
  {
   "cell_type": "code",
   "execution_count": 33,
   "id": "11fd70f9-232c-4235-ab52-3083afaf3a43",
   "metadata": {},
   "outputs": [
    {
     "name": "stdout",
     "output_type": "stream",
     "text": [
      "6\n"
     ]
    }
   ],
   "source": [
    "x1=6\n",
    "print(x1)"
   ]
  },
  {
   "cell_type": "code",
   "execution_count": 39,
   "id": "276eb1c9-4e9c-409f-80aa-dc3c4b5f82eb",
   "metadata": {},
   "outputs": [
    {
     "name": "stdout",
     "output_type": "stream",
     "text": [
      "6\n",
      "<class 'int'>\n",
      "6\n",
      "<class 'str'>\n",
      "6.0\n",
      "<class 'float'>\n"
     ]
    }
   ],
   "source": [
    "num=6\n",
    "print(num)\n",
    "print(type(num))\n",
    "\n",
    "# change the data integer to str\n",
    "str1=str(num)\n",
    "print(str1)\n",
    "print(type(str1))\n",
    "\n",
    "# change to int ot float\n",
    "\n",
    "float1=float(num)\n",
    "print(float1)\n",
    "print(type(float1))"
   ]
  },
  {
   "cell_type": "code",
   "execution_count": 42,
   "id": "1e2b2056-ac91-4a3b-b1c3-b40d62281603",
   "metadata": {},
   "outputs": [
    {
     "name": "stdout",
     "output_type": "stream",
     "text": [
      "3.6\n",
      "<class 'str'>\n",
      "3\n",
      "<class 'int'>\n"
     ]
    }
   ],
   "source": [
    "number=3.6   # str,int\n",
    "\n",
    "str1=str(number)\n",
    "print(str1)\n",
    "print(type(str1))\n",
    "\n",
    "# integer\n",
    "int_1=int(number)\n",
    "print(int_1)\n",
    "print(type(int_1))"
   ]
  },
  {
   "cell_type": "code",
   "execution_count": 47,
   "id": "f9db45cf-749d-4f91-bd7f-b99f5bf67f71",
   "metadata": {},
   "outputs": [
    {
     "name": "stdout",
     "output_type": "stream",
     "text": [
      "1\n",
      "<class 'int'>\n",
      "True\n",
      "<class 'str'>\n",
      "1.0\n",
      "<class 'float'>\n"
     ]
    }
   ],
   "source": [
    "# \n",
    "bool1=True   # int,str,float\n",
    "\n",
    "int1=int(bool1)\n",
    "print(int1)\n",
    "print(type(int1))\n",
    "\n",
    "\n",
    "str1=str(bool1)\n",
    "print(str1)\n",
    "print(type(str1))\n",
    "\n",
    "float1=float(bool1)\n",
    "print(float1)\n",
    "print(type(float1))"
   ]
  },
  {
   "cell_type": "code",
   "execution_count": 52,
   "id": "16e51d33-2a8b-4256-bfce-63251a411aa4",
   "metadata": {},
   "outputs": [
    {
     "name": "stdout",
     "output_type": "stream",
     "text": [
      "False\n",
      "<class 'str'>\n",
      "0\n",
      "<class 'int'>\n",
      "0.0\n",
      "<class 'float'>\n"
     ]
    }
   ],
   "source": [
    "bool2=False    # int,str,float\n",
    "\n",
    "str1=str(False)\n",
    "print(str1)\n",
    "print(type(str1))\n",
    "\n",
    "int1=int(bool2)\n",
    "print(int1)\n",
    "print(type(int1))\n",
    "\n",
    "float2=float(bool2)\n",
    "print(float2)\n",
    "print(type(float2))"
   ]
  },
  {
   "cell_type": "code",
   "execution_count": 1,
   "id": "7f757652-a42e-42f3-b55a-f8c3691a6cba",
   "metadata": {},
   "outputs": [],
   "source": [
    "# total data types in python\n",
    "# 1. Number \n",
    "    # 1. Integer\n",
    "    #2. float\n",
    "    # 3. Complext Number\n",
    "# 2. Dictionary\n",
    "# 3. Sets\n",
    "# 4. Boolean\n",
    "# 5. Sequences Data types in Python\n",
    "  # 1. String\n",
    " # 2. tuple\n",
    " # 3. List Data types"
   ]
  },
  {
   "cell_type": "code",
   "execution_count": 2,
   "id": "a75cceb1-ed7c-4f3c-ab53-788f3a095673",
   "metadata": {},
   "outputs": [
    {
     "name": "stdout",
     "output_type": "stream",
     "text": [
      "Addition: 145\n"
     ]
    }
   ],
   "source": [
    "# Operators \n",
    "\n",
    "# Addition\n",
    "\n",
    "x=45\n",
    "y=100\n",
    "z=x+y    # +\n",
    "print('Addition:',z)"
   ]
  },
  {
   "cell_type": "code",
   "execution_count": 3,
   "id": "7854b952-7ba9-4e82-9821-0a78de7258ff",
   "metadata": {},
   "outputs": [
    {
     "name": "stdout",
     "output_type": "stream",
     "text": [
      "Substraction: -55\n"
     ]
    }
   ],
   "source": [
    "# Substraction\n",
    "\n",
    "x=45\n",
    "y=100\n",
    "z=x-y\n",
    "print('Substraction:',z)"
   ]
  },
  {
   "cell_type": "code",
   "execution_count": 4,
   "id": "daa7f629-6aab-4688-b403-da06ca02c14b",
   "metadata": {},
   "outputs": [
    {
     "name": "stdout",
     "output_type": "stream",
     "text": [
      "Multiplication 4500\n"
     ]
    }
   ],
   "source": [
    "# Multiplication\n",
    "\n",
    "x=45\n",
    "y=100\n",
    "z=x*y\n",
    "print('Multiplication',z)"
   ]
  },
  {
   "cell_type": "code",
   "execution_count": 6,
   "id": "cdc45249-2657-4e61-90e5-000e8c726e6e",
   "metadata": {},
   "outputs": [
    {
     "name": "stdout",
     "output_type": "stream",
     "text": [
      "Divisoion 8.823529411764707\n"
     ]
    }
   ],
   "source": [
    "# division\n",
    "\n",
    "x=450\n",
    "y=51\n",
    "z=x/y   # float division\n",
    "print('Divisoion:',z)"
   ]
  },
  {
   "cell_type": "code",
   "execution_count": 7,
   "id": "97923b03-1998-48fc-9df1-00f12ae8e4b7",
   "metadata": {},
   "outputs": [
    {
     "name": "stdout",
     "output_type": "stream",
     "text": [
      "Division 8\n"
     ]
    }
   ],
   "source": [
    "# \n",
    "x=450\n",
    "y=51\n",
    "z=x//y   # int Division\n",
    "print('Division:',z)"
   ]
  },
  {
   "cell_type": "code",
   "execution_count": 9,
   "id": "ebc4e123-d480-49e1-8aba-af085878ccfd",
   "metadata": {},
   "outputs": [
    {
     "name": "stdout",
     "output_type": "stream",
     "text": [
      "Modulus Value is: 0\n"
     ]
    }
   ],
   "source": [
    "# Modulus\n",
    "\n",
    "# It return the value of remainder.\n",
    "\n",
    "x=2\n",
    "y=2\n",
    "z= x%y\n",
    "print(\"Modulus Value is:\",z)"
   ]
  },
  {
   "cell_type": "code",
   "execution_count": 10,
   "id": "c23732c5-ac8e-4e4e-b2e5-3f4a862ad222",
   "metadata": {},
   "outputs": [
    {
     "name": "stdout",
     "output_type": "stream",
     "text": [
      "Modulus Value is: 1\n"
     ]
    }
   ],
   "source": [
    "# Modulus\n",
    "\n",
    "# It return the value of remainder.\n",
    "\n",
    "x=3\n",
    "y=2\n",
    "z= x%y\n",
    "print(\"Modulus Value is:\",z)"
   ]
  },
  {
   "cell_type": "code",
   "execution_count": 11,
   "id": "4dd91ec2-e447-4125-8d39-bac21641b62d",
   "metadata": {},
   "outputs": [
    {
     "name": "stdout",
     "output_type": "stream",
     "text": [
      "Exponent will be 8\n"
     ]
    }
   ],
   "source": [
    "# Exponent: base and power(Exponent)\n",
    "\n",
    "x= 2\n",
    "y = 3\n",
    "\n",
    "z= x**y   # 2^3 = 2x2x2=8\n",
    "print('Exponent will be:',z)"
   ]
  },
  {
   "cell_type": "code",
   "execution_count": 14,
   "id": "d75361e8-d816-4968-aad9-3df5aac388f8",
   "metadata": {},
   "outputs": [
    {
     "name": "stdout",
     "output_type": "stream",
     "text": [
      "1200 minutes\n",
      "<class 'int'>\n"
     ]
    }
   ],
   "source": [
    "#  An Example: Let's calculate how many minutes are there in 20 hours?  # 1200\n",
    "\n",
    "one_hours= 60    # 60 mint\n",
    "hours= 20     # a/q\n",
    "minutes= one_hours*hours\n",
    "print(minutes,'minutes')\n",
    "print(type(minutes))"
   ]
  },
  {
   "cell_type": "code",
   "execution_count": 15,
   "id": "6c185ec4-024f-46ca-8392-5ff70afaf04e",
   "metadata": {},
   "outputs": [
    {
     "name": "stdout",
     "output_type": "stream",
     "text": [
      "9.133333333333333 hours\n",
      "9 hours\n"
     ]
    }
   ],
   "source": [
    "# An Example: Let's calcualte how many hours are there in 548 minutes.?\n",
    "\n",
    "given_minutes=548\n",
    "hour=60\n",
    "numberofhours=given_minutes/hour\n",
    "print(numberofhours, \"hours\")\n",
    "print(int(numberofhours), \"hours\")"
   ]
  },
  {
   "cell_type": "code",
   "execution_count": 26,
   "id": "c7da5844-c1dc-40f8-8333-8cea618f2c7f",
   "metadata": {},
   "outputs": [
    {
     "name": "stdout",
     "output_type": "stream",
     "text": [
      "Value of x: 312\n",
      "Value of y: 4272\n",
      "Addition of x and y: 4584\n",
      "Substraction of x and y: -3960\n",
      "Multiplication of x and y: 1332864\n",
      "Division of x and y: 0.07303370786516854\n",
      "Division of x and y: 0\n",
      "Modulus of x and y: 312\n",
      "Exponent of x and y: "
     ]
    },
    {
     "ename": "ValueError",
     "evalue": "Exceeds the limit (4300 digits) for integer string conversion; use sys.set_int_max_str_digits() to increase the limit",
     "output_type": "error",
     "traceback": [
      "\u001b[1;31m---------------------------------------------------------------------------\u001b[0m",
      "\u001b[1;31mValueError\u001b[0m                                Traceback (most recent call last)",
      "Cell \u001b[1;32mIn[26], line 15\u001b[0m\n\u001b[0;32m     13\u001b[0m \u001b[38;5;28mprint\u001b[39m(\u001b[38;5;124m'\u001b[39m\u001b[38;5;124mDivision of x and y:\u001b[39m\u001b[38;5;124m'\u001b[39m,x\u001b[38;5;241m/\u001b[39m\u001b[38;5;241m/\u001b[39my)\n\u001b[0;32m     14\u001b[0m \u001b[38;5;28mprint\u001b[39m(\u001b[38;5;124m'\u001b[39m\u001b[38;5;124mModulus of x and y:\u001b[39m\u001b[38;5;124m'\u001b[39m,x\u001b[38;5;241m%\u001b[39my)\n\u001b[1;32m---> 15\u001b[0m \u001b[38;5;28;43mprint\u001b[39;49m\u001b[43m(\u001b[49m\u001b[38;5;124;43m'\u001b[39;49m\u001b[38;5;124;43mExponent of x and y:\u001b[39;49m\u001b[38;5;124;43m'\u001b[39;49m\u001b[43m,\u001b[49m\u001b[43mx\u001b[49m\u001b[38;5;241;43m*\u001b[39;49m\u001b[38;5;241;43m*\u001b[39;49m\u001b[43my\u001b[49m\u001b[43m)\u001b[49m\n",
      "\u001b[1;31mValueError\u001b[0m: Exceeds the limit (4300 digits) for integer string conversion; use sys.set_int_max_str_digits() to increase the limit"
     ]
    }
   ],
   "source": [
    "# How to calculate mathematical expression in python\n",
    "\n",
    "x=45+3*89\n",
    "y= (45+3)*89\n",
    "\n",
    "print('Value of x:',x)\n",
    "print('Value of y:',y)\n",
    "\n",
    "print('Addition of x and y:',x+y)\n",
    "print('Substraction of x and y:',x-y)\n",
    "print('Multiplication of x and y:',x*y)\n",
    "print('Division of x and y:',x/y)\n",
    "print('Division of x and y:',x//y)\n",
    "print('Modulus of x and y:',x%y)\n",
    "print('Exponent of x and y:',x**y)"
   ]
  },
  {
   "cell_type": "code",
   "execution_count": 27,
   "id": "abfadfc6-babc-4a42-a836-7432b2ad11c9",
   "metadata": {},
   "outputs": [
    {
     "name": "stdout",
     "output_type": "stream",
     "text": [
      "90\n"
     ]
    }
   ],
   "source": [
    "# Variable: \n",
    "number = 90\n",
    "print(number)"
   ]
  },
  {
   "cell_type": "code",
   "execution_count": 28,
   "id": "dcc552f6-7d2c-4309-bedd-bf1e1f6b65df",
   "metadata": {},
   "outputs": [
    {
     "name": "stdout",
     "output_type": "stream",
     "text": [
      "<class 'int'>\n"
     ]
    }
   ],
   "source": [
    "print(type(number))"
   ]
  },
  {
   "cell_type": "code",
   "execution_count": 32,
   "id": "b64a0ebc-9186-4cf7-abd7-19815c5694fe",
   "metadata": {},
   "outputs": [
    {
     "name": "stdout",
     "output_type": "stream",
     "text": [
      "-49\n",
      "-7.0\n",
      "-3.5\n"
     ]
    }
   ],
   "source": [
    "# \n",
    "x= 25\n",
    "y = 87\n",
    "z= 5*x-2*y\n",
    "print(z)\n",
    "\n",
    "t= z/7\n",
    "print(t)\n",
    "\n",
    "z=z/14\n",
    "print(z)\n"
   ]
  },
  {
   "cell_type": "code",
   "execution_count": 33,
   "id": "138bf8c1-0809-469c-a673-33a4216118ec",
   "metadata": {},
   "outputs": [
    {
     "name": "stdout",
     "output_type": "stream",
     "text": [
      "8\n",
      "4\n",
      "2\n"
     ]
    }
   ],
   "source": [
    "# Variable\n",
    "x,y,z=8,4,2\n",
    "print(x)\n",
    "print(y)\n",
    "print(z)"
   ]
  },
  {
   "cell_type": "code",
   "execution_count": null,
   "id": "c739989b-5cce-4f37-b684-53a0eaa7b1af",
   "metadata": {},
   "outputs": [],
   "source": []
  }
 ],
 "metadata": {
  "kernelspec": {
   "display_name": "Python 3 (ipykernel)",
   "language": "python",
   "name": "python3"
  },
  "language_info": {
   "codemirror_mode": {
    "name": "ipython",
    "version": 3
   },
   "file_extension": ".py",
   "mimetype": "text/x-python",
   "name": "python",
   "nbconvert_exporter": "python",
   "pygments_lexer": "ipython3",
   "version": "3.12.2"
  }
 },
 "nbformat": 4,
 "nbformat_minor": 5
}
