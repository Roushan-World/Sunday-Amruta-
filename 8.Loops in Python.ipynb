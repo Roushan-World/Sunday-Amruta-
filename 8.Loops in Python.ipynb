{
 "cells": [
  {
   "cell_type": "markdown",
   "id": "a29ec3bd-8dc3-4621-8b27-3fd247f62d10",
   "metadata": {},
   "source": [
    "# 8. Loops in Python\n",
    "\n",
    " * __A for loop is used for iteratting over a sequence (that is either a list, a tuple, a dictionary, a set or a string).__\n",
    " * __This is less like the for keyword in other programming languages, and workd more like an iterator method as found in other object-oriented programming languages.__\n",
    " * __With the for loop we can execute a set of statements, once for each item in a alist, tuple,set etc.__\n",
    " * __The for loop does not require an indexing variable to set beforehand.__\n",
    " * __Note: remember to incremenet i, or else the loop will continue forever.__\n",
    " * __The while loop requires relevant variables to be ready, in this example we need to define an indexing variable, i, which we set to 1.__\n",
    "\n",
    "# range() function\n",
    " * __It is helpful to think of the range obejct as an ordered list.__\n",
    " * __To loop through a set of code a specified number of times, we can use the range() functions.__\n",
    " * __The range() funciton returns a sequence of numbers, starting from 0 by default, and incremnts by 1 (by default), and ends at a specified number.__\n",
    "\n",
    " * __There are two types of loop__\n",
    " * __1.for loop__\n",
    "    * __1.Break()__\n",
    "    * __2.Continue()__\n",
    " * __2.While loop__\n",
    "    * __1.Break()__\n",
    "    * __2.Continue()__"
   ]
  },
  {
   "cell_type": "code",
   "execution_count": 1,
   "id": "c13f2c2f-1379-4a01-85ab-8ab7125e41d9",
   "metadata": {},
   "outputs": [
    {
     "data": {
      "text/plain": [
       "range(0, 10)"
      ]
     },
     "execution_count": 1,
     "metadata": {},
     "output_type": "execute_result"
    }
   ],
   "source": [
    "range(10)   # n-1=11=10"
   ]
  },
  {
   "cell_type": "code",
   "execution_count": 2,
   "id": "ef6057c0-8d85-47d5-921c-296fb82c1cf8",
   "metadata": {},
   "outputs": [
    {
     "data": {
      "text/plain": [
       "range(10, 20)"
      ]
     },
     "execution_count": 2,
     "metadata": {},
     "output_type": "execute_result"
    }
   ],
   "source": [
    "range(10,20)   # 10,11.............19"
   ]
  },
  {
   "cell_type": "code",
   "execution_count": 3,
   "id": "b6268834-c52a-4b80-8075-f0f686c4fd77",
   "metadata": {},
   "outputs": [
    {
     "name": "stdout",
     "output_type": "stream",
     "text": [
      "0\n",
      "1\n",
      "2\n",
      "3\n",
      "4\n",
      "5\n",
      "6\n",
      "7\n",
      "8\n",
      "9\n"
     ]
    }
   ],
   "source": [
    "for i in range(10):\n",
    "    print(i)"
   ]
  },
  {
   "cell_type": "code",
   "execution_count": 6,
   "id": "d826cd4e-8798-4902-91d3-fdfa5e43a2ec",
   "metadata": {},
   "outputs": [
    {
     "name": "stdout",
     "output_type": "stream",
     "text": [
      "10\n",
      "11\n",
      "12\n",
      "13\n",
      "14\n",
      "15\n",
      "16\n",
      "17\n",
      "18\n",
      "19\n"
     ]
    }
   ],
   "source": [
    "for x in range(10,20):   #1-incremented.\n",
    "    print(x)"
   ]
  },
  {
   "cell_type": "code",
   "execution_count": 7,
   "id": "b2e6d9b9-876b-4e70-a7a1-79ae2d8397ee",
   "metadata": {},
   "outputs": [
    {
     "name": "stdout",
     "output_type": "stream",
     "text": [
      "2005\n",
      "2006\n",
      "2007\n",
      "2008\n",
      "2009\n",
      "2010\n"
     ]
    }
   ],
   "source": [
    "list1=[2005,2006,2007,2008,2009,2010]\n",
    "\n",
    "for year in list1:\n",
    "    print(year)"
   ]
  },
  {
   "cell_type": "code",
   "execution_count": 12,
   "id": "edfb750c-beb9-4bd6-bd21-4008e9ecf2ab",
   "metadata": {},
   "outputs": [
    {
     "name": "stdout",
     "output_type": "stream",
     "text": [
      "0 - 2005\n",
      "1 - 2006\n",
      "2 - 2007\n",
      "3 - 2008\n",
      "4 - 2009\n",
      "5 - 2010\n"
     ]
    }
   ],
   "source": [
    "list1=[2005,2006,2007,2008,2009,2010]\n",
    "\n",
    "for year in range(len(list1)):\n",
    "    print(year,'-',list1[year])"
   ]
  },
  {
   "cell_type": "code",
   "execution_count": 14,
   "id": "77715967-9e08-40aa-827a-7751b540f16f",
   "metadata": {},
   "outputs": [
    {
     "name": "stdout",
     "output_type": "stream",
     "text": [
      "1\n",
      "3\n",
      "5\n",
      "7\n",
      "9\n"
     ]
    }
   ],
   "source": [
    "# odd number from -10\n",
    "\n",
    "for i in range(1,11,2):\n",
    "    print(i)"
   ]
  },
  {
   "cell_type": "code",
   "execution_count": 17,
   "id": "2f7da8e5-b63e-4838-aaca-69cd6a5b9f1b",
   "metadata": {},
   "outputs": [
    {
     "name": "stdout",
     "output_type": "stream",
     "text": [
      "2\n",
      "4\n",
      "6\n",
      "8\n",
      "10\n"
     ]
    }
   ],
   "source": [
    "# \n",
    "\n",
    "for i in range(1,11):\n",
    "    if i%2==0:\n",
    "        print(i)\n",
    "    "
   ]
  },
  {
   "cell_type": "code",
   "execution_count": 18,
   "id": "8cb9567c-0439-4dcf-a843-6bbebc857402",
   "metadata": {},
   "outputs": [
    {
     "name": "stdout",
     "output_type": "stream",
     "text": [
      "Python\n",
      "Java\n",
      "javaScript\n",
      "C\n",
      "C++\n",
      "PHP\n"
     ]
    }
   ],
   "source": [
    "languages=['Python','Java',\"javaScript\",\"C\",\"C++\",\"PHP\"]\n",
    "\n",
    "for i in languages:\n",
    "    print(i)"
   ]
  },
  {
   "cell_type": "code",
   "execution_count": 20,
   "id": "321b5c15-14f4-4f5d-9960-3616752af4fd",
   "metadata": {},
   "outputs": [
    {
     "name": "stdout",
     "output_type": "stream",
     "text": [
      "0 Python\n",
      "1 Java\n",
      "2 javaScript\n",
      "3 C\n",
      "4 C++\n",
      "5 PHP\n"
     ]
    }
   ],
   "source": [
    "for x in range(len(languages)):\n",
    "    print(x,languages[x])"
   ]
  },
  {
   "cell_type": "code",
   "execution_count": 22,
   "id": "6cc82946-3c5a-4770-899c-252c1ab0449a",
   "metadata": {},
   "outputs": [
    {
     "name": "stdout",
     "output_type": "stream",
     "text": [
      "3 C\n",
      "4 C++\n"
     ]
    }
   ],
   "source": [
    "for x in range(len(languages)):\n",
    "    if languages[x]=='C' or languages[x]==\"C++\":\n",
    "        print(x,languages[x])"
   ]
  },
  {
   "cell_type": "code",
   "execution_count": 24,
   "id": "cdae2415-90a4-40fe-a3b0-5544b66e93ee",
   "metadata": {},
   "outputs": [
    {
     "name": "stdout",
     "output_type": "stream",
     "text": [
      "-3\n",
      "-2\n",
      "-1\n",
      "0\n",
      "1\n",
      "2\n",
      "3\n",
      "4\n",
      "5\n",
      "6\n",
      "7\n",
      "8\n",
      "9\n",
      "10\n",
      "11\n",
      "12\n",
      "13\n",
      "14\n",
      "15\n",
      "16\n",
      "17\n",
      "18\n",
      "19\n",
      "20\n"
     ]
    }
   ],
   "source": [
    "# Take range from -3,20 and display\n",
    "\n",
    "for i in range(-3,21):\n",
    "    print(i)"
   ]
  },
  {
   "cell_type": "code",
   "execution_count": 28,
   "id": "b2bc4166-e2e8-4ad2-839b-70470dd724b9",
   "metadata": {},
   "outputs": [
    {
     "name": "stdout",
     "output_type": "stream",
     "text": [
      "13 X 1 = 13\n",
      "13 X 2 = 26\n",
      "13 X 3 = 39\n",
      "13 X 4 = 52\n",
      "13 X 5 = 65\n",
      "13 X 6 = 78\n",
      "13 X 7 = 91\n",
      "13 X 8 = 104\n",
      "13 X 9 = 117\n",
      "13 X 10 = 130\n"
     ]
    }
   ],
   "source": [
    "# wap to generate table of 13\n",
    "# 13X1=13\n",
    "# 13X2=26\n",
    "# ........\n",
    "num=13\n",
    "for i in range(1,11):\n",
    "    print(num,'X',i,'=', num*i)"
   ]
  },
  {
   "cell_type": "code",
   "execution_count": 29,
   "id": "c3330cf3-d662-40ae-90bc-63ffa4836612",
   "metadata": {},
   "outputs": [
    {
     "name": "stdout",
     "output_type": "stream",
     "text": [
      "13X1=13\n",
      "13X2=26\n",
      "13X3=39\n",
      "13X4=52\n",
      "13X5=65\n",
      "13X6=78\n",
      "13X7=91\n",
      "13X8=104\n",
      "13X9=117\n",
      "13X10=130\n"
     ]
    }
   ],
   "source": [
    "# wap to generate table of 13\n",
    "# 13X1=13\n",
    "# 13X2=26\n",
    "# ........\n",
    "num=13\n",
    "for i in range(1,11):\n",
    "    print(\"%dX%d=%d\"%(num,i,num*i))"
   ]
  },
  {
   "cell_type": "code",
   "execution_count": 30,
   "id": "56ffe9db-fc98-4cd0-b702-bd3f5d4805da",
   "metadata": {},
   "outputs": [
    {
     "name": "stdout",
     "output_type": "stream",
     "text": [
      "13X1=13\n",
      "13X2=26\n",
      "13X3=39\n",
      "13X4=52\n",
      "13X5=65\n",
      "13X6=78\n",
      "13X7=91\n",
      "13X8=104\n",
      "13X9=117\n",
      "13X10=130\n"
     ]
    }
   ],
   "source": [
    "# wap to generate table of 13\n",
    "# 13X1=13\n",
    "# 13X2=26\n",
    "# ........\n",
    "num=13\n",
    "for i in range(1,11):\n",
    "    print(\"{}X{}={}\".format(num,i,num*i))"
   ]
  },
  {
   "cell_type": "code",
   "execution_count": 32,
   "id": "4fa91e46-9b9b-4da7-95bc-953531ba6e79",
   "metadata": {},
   "outputs": [
    {
     "name": "stdout",
     "output_type": "stream",
     "text": [
      "13X1=13\n",
      "13X2=26\n",
      "13X3=39\n",
      "13X4=52\n",
      "13X5=65\n",
      "13X6=78\n",
      "13X7=91\n",
      "13X8=104\n",
      "13X9=117\n",
      "13X10=130\n"
     ]
    }
   ],
   "source": [
    "for i in range(1,11):\n",
    "    print(f\"{num}X{i}={num*i}\")"
   ]
  },
  {
   "cell_type": "code",
   "execution_count": 34,
   "id": "a4e2f9a8-db47-4d5e-bd3d-cbe08fdcd3a2",
   "metadata": {},
   "outputs": [
    {
     "name": "stdin",
     "output_type": "stream",
     "text": [
      "Enter any value: 19\n"
     ]
    },
    {
     "name": "stdout",
     "output_type": "stream",
     "text": [
      "19X1=19\n",
      "19X2=38\n",
      "19X3=57\n",
      "19X4=76\n",
      "19X5=95\n",
      "19X6=114\n",
      "19X7=133\n",
      "19X8=152\n",
      "19X9=171\n",
      "19X10=190\n"
     ]
    }
   ],
   "source": [
    "num=int(input('Enter any value:'))\n",
    "for i in range(1,11):\n",
    "    print(f\"{num}X{i}={num*i}\")"
   ]
  },
  {
   "cell_type": "markdown",
   "id": "90384bb3-1f75-4dc4-9fb7-398f754725aa",
   "metadata": {},
   "source": [
    "# for-else statement"
   ]
  },
  {
   "cell_type": "code",
   "execution_count": 36,
   "id": "bf1049a3-1408-4d4a-946c-5593fb91dd96",
   "metadata": {},
   "outputs": [
    {
     "name": "stdout",
     "output_type": "stream",
     "text": [
      "1\n",
      "2\n",
      "3\n",
      "4\n",
      "5\n",
      "These are the value for 1 to 5\n"
     ]
    }
   ],
   "source": [
    "for i in range(1,6):\n",
    "    print(i)\n",
    "\n",
    "else:\n",
    "    print('These are the value for 1 to 5')"
   ]
  },
  {
   "cell_type": "markdown",
   "id": "e795de23-ef67-4543-bce1-b52eb8dad8ce",
   "metadata": {},
   "source": [
    "# for loop of break "
   ]
  },
  {
   "cell_type": "code",
   "execution_count": 43,
   "id": "cd7714b8-075a-4d60-b5ca-a777d3dc1e54",
   "metadata": {},
   "outputs": [
    {
     "name": "stdout",
     "output_type": "stream",
     "text": [
      "1\n",
      "2\n",
      "3\n",
      "4\n",
      "5\n"
     ]
    }
   ],
   "source": [
    "# 1-10 natural number\n",
    "\n",
    "for i in range(1,11):\n",
    "    print(i)\n",
    "    if i==5:\n",
    "        break\n",
    "    "
   ]
  },
  {
   "cell_type": "markdown",
   "id": "01489c36-cb08-4137-8adb-5eac9748db6e",
   "metadata": {},
   "source": [
    "# continue the loop"
   ]
  },
  {
   "cell_type": "code",
   "execution_count": 45,
   "id": "b33119bc-b47f-40a0-be97-37dca8d3fd86",
   "metadata": {},
   "outputs": [
    {
     "name": "stdout",
     "output_type": "stream",
     "text": [
      "10\n",
      "11\n",
      "12\n",
      "13\n",
      "14\n",
      "16\n",
      "17\n",
      "18\n",
      "19\n",
      "20\n"
     ]
    }
   ],
   "source": [
    "for i in range(10,21):\n",
    "    if i==15:\n",
    "        continue\n",
    "    print(i)"
   ]
  },
  {
   "cell_type": "markdown",
   "id": "898f8f5f-e770-4571-935c-963f84efdf68",
   "metadata": {},
   "source": [
    "# while loop in python"
   ]
  },
  {
   "cell_type": "code",
   "execution_count": 46,
   "id": "b7f4d588-ae2b-4c57-a780-3c238144c750",
   "metadata": {},
   "outputs": [
    {
     "name": "stdout",
     "output_type": "stream",
     "text": [
      "1\n",
      "2\n",
      "3\n",
      "4\n",
      "5\n",
      "6\n",
      "7\n",
      "8\n",
      "9\n",
      "10\n"
     ]
    }
   ],
   "source": [
    "# print natural number from 1-10:\n",
    "i=1\n",
    "\n",
    "while i<=10:\n",
    "    print(i)\n",
    "    i+=1"
   ]
  },
  {
   "cell_type": "code",
   "execution_count": 50,
   "id": "2df78851-28e1-4817-82f1-0bfe94f5bebe",
   "metadata": {},
   "outputs": [
    {
     "name": "stdout",
     "output_type": "stream",
     "text": [
      "0\n",
      "2\n",
      "4\n",
      "6\n",
      "8\n",
      "10\n"
     ]
    }
   ],
   "source": [
    "# even number find from range (1-10) using while\n",
    "\n",
    "i=0\n",
    "while i<=10:\n",
    "    print(i)\n",
    "    i+=2"
   ]
  },
  {
   "cell_type": "code",
   "execution_count": 51,
   "id": "b941efb2-b3b7-4d51-8a35-ee305bcc2b70",
   "metadata": {},
   "outputs": [
    {
     "name": "stdout",
     "output_type": "stream",
     "text": [
      "1\n",
      "3\n",
      "5\n",
      "7\n",
      "9\n"
     ]
    }
   ],
   "source": [
    "i=1\n",
    "while i<=10:\n",
    "    print(i)\n",
    "    i+=2"
   ]
  },
  {
   "cell_type": "code",
   "execution_count": 55,
   "id": "c103708c-00ac-4157-867d-4d3e7229ca0c",
   "metadata": {},
   "outputs": [
    {
     "name": "stdout",
     "output_type": "stream",
     "text": [
      "13 x 1 = 13\n",
      "13 x 2 = 26\n",
      "13 x 3 = 39\n",
      "13 x 4 = 52\n",
      "13 x 5 = 65\n",
      "13 x 6 = 78\n",
      "13 x 7 = 91\n",
      "13 x 8 = 104\n",
      "13 x 9 = 117\n",
      "13 x 10 = 130\n"
     ]
    }
   ],
   "source": [
    "# print table of 13\n",
    "num=13\n",
    "i=1\n",
    "while i<=10:\n",
    "    print(num,'x',i,'=',num*i)\n",
    "    i+=1"
   ]
  },
  {
   "cell_type": "code",
   "execution_count": 56,
   "id": "3d9759d6-ccbd-4508-98f7-b5f02f070a4b",
   "metadata": {},
   "outputs": [
    {
     "name": "stdout",
     "output_type": "stream",
     "text": [
      "13X1=13\n",
      "13X2=26\n",
      "13X3=39\n",
      "13X4=52\n",
      "13X5=65\n",
      "13X6=78\n",
      "13X7=91\n",
      "13X8=104\n",
      "13X9=117\n",
      "13X10=130\n"
     ]
    }
   ],
   "source": [
    "num=13\n",
    "i=1\n",
    "while i<=10:\n",
    "    print(\"%dX%d=%d\"%(num,i,num*i))\n",
    "    i+=1"
   ]
  },
  {
   "cell_type": "code",
   "execution_count": 57,
   "id": "06c945b1-cdfb-4baf-8100-0920d4f27b24",
   "metadata": {},
   "outputs": [
    {
     "name": "stdout",
     "output_type": "stream",
     "text": [
      "13X1=13\n",
      "13X2=26\n",
      "13X3=39\n",
      "13X4=52\n",
      "13X5=65\n",
      "13X6=78\n",
      "13X7=91\n",
      "13X8=104\n",
      "13X9=117\n",
      "13X10=130\n"
     ]
    }
   ],
   "source": [
    "num=13\n",
    "i=1\n",
    "while i<=10:\n",
    "    print(f\"{num}X{i}={num*i}\")\n",
    "    i+=1"
   ]
  },
  {
   "cell_type": "code",
   "execution_count": 61,
   "id": "a3dfa591-2a4d-42a0-9bf2-be4477276592",
   "metadata": {},
   "outputs": [
    {
     "name": "stdin",
     "output_type": "stream",
     "text": [
      "Enter any value: 20\n"
     ]
    },
    {
     "name": "stdout",
     "output_type": "stream",
     "text": [
      "20X1=20\n",
      "20X2=40\n",
      "20X3=60\n",
      "20X4=80\n",
      "20X5=100\n",
      "20X6=120\n",
      "20X7=140\n",
      "20X8=160\n",
      "20X9=180\n",
      "20X10=200\n"
     ]
    }
   ],
   "source": [
    "num=int(input('Enter any value:'))\n",
    "i=1\n",
    "while i<=10:\n",
    "    print(\"{}X{}={}\".format(num,i,num*i))\n",
    "    i+=1"
   ]
  },
  {
   "cell_type": "markdown",
   "id": "e9ff01a0-2beb-4583-97d5-bc2e5981de9b",
   "metadata": {},
   "source": [
    "# while-else statement"
   ]
  },
  {
   "cell_type": "code",
   "execution_count": 63,
   "id": "054cff7b-04ba-45bc-b656-f2e9effd89c0",
   "metadata": {},
   "outputs": [
    {
     "name": "stdout",
     "output_type": "stream",
     "text": [
      "1\n",
      "2\n",
      "3\n",
      "4\n",
      "5\n",
      "6\n",
      "7\n",
      "8\n",
      "9\n",
      "10\n",
      "These are the values from 1to10\n"
     ]
    }
   ],
   "source": [
    "# natural number from 1-10\n",
    "i=1\n",
    "while i<=10:\n",
    "    print(i)\n",
    "    i+=1\n",
    "\n",
    "else:\n",
    "    print('These are the values from 1to10')"
   ]
  },
  {
   "cell_type": "markdown",
   "id": "8a15d178-6764-4ff8-8a3c-75cef2b3488a",
   "metadata": {},
   "source": [
    "# break in while loop"
   ]
  },
  {
   "cell_type": "code",
   "execution_count": 65,
   "id": "7d2c10ef-d697-48cb-91a9-36df7f5c1990",
   "metadata": {},
   "outputs": [
    {
     "name": "stdout",
     "output_type": "stream",
     "text": [
      "1\n",
      "2\n",
      "3\n",
      "4\n"
     ]
    }
   ],
   "source": [
    "i=1\n",
    "while i<=10:\n",
    "    print(i)\n",
    "    i+=1\n",
    "    if i==5:\n",
    "        break"
   ]
  },
  {
   "cell_type": "markdown",
   "id": "d7403acf-d073-474b-b8d4-06da4ad1b3db",
   "metadata": {},
   "source": [
    "# Continue in while loop"
   ]
  },
  {
   "cell_type": "code",
   "execution_count": 72,
   "id": "03848f69-70e1-41aa-a5ec-88edc8e9accb",
   "metadata": {},
   "outputs": [
    {
     "name": "stdout",
     "output_type": "stream",
     "text": [
      "1\n",
      "2\n",
      "3\n",
      "4\n",
      "6\n",
      "7\n",
      "8\n",
      "9\n",
      "10\n",
      "11\n"
     ]
    }
   ],
   "source": [
    "i=0\n",
    "while i<=10:\n",
    "    i+=1\n",
    "    if i==5:\n",
    "       continue\n",
    "    print(i)"
   ]
  },
  {
   "cell_type": "code",
   "execution_count": null,
   "id": "a00ed538-e38a-4815-af27-6029a89c8791",
   "metadata": {},
   "outputs": [],
   "source": [
    "# 1. wap to print sum, average, and length of positive and negative value given by the user input range.\n",
    "# [10,-20,-69,100,200] \n",
    "\n",
    "#2. Create a program that takes a year as input and check if it is leap year or not.\n",
    "#3. Write a python program to check if a given number is even or not.\n",
    "#4. Given a list of names, print all names starting with the character from \"A\".\n",
    "#5. Create a loop that print all even or odd numbers between 1-50.\n",
    "#6. Given a list of words, count the number of words with more than 5 character.\n",
    "\n",
    "# 7. Implement a program that prints the multiplication table of a given number.\n",
    "\n",
    "# 8. calculate the sum of digits of a given number [10,20,30,50,40,18,44,77,89,25,45,36,81]\n",
    "# 9. calcuate the factorial of a given number.\n",
    "# 10.  "
   ]
  }
 ],
 "metadata": {
  "kernelspec": {
   "display_name": "Python 3 (ipykernel)",
   "language": "python",
   "name": "python3"
  },
  "language_info": {
   "codemirror_mode": {
    "name": "ipython",
    "version": 3
   },
   "file_extension": ".py",
   "mimetype": "text/x-python",
   "name": "python",
   "nbconvert_exporter": "python",
   "pygments_lexer": "ipython3",
   "version": "3.12.2"
  }
 },
 "nbformat": 4,
 "nbformat_minor": 5
}
