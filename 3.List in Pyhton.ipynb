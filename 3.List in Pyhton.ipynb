{
 "cells": [
  {
   "cell_type": "markdown",
   "id": "b595cd88-b8e6-47a4-9395-4d165caecedf",
   "metadata": {},
   "source": [
    "# 3. Lists in Python\n",
    "\n",
    " * __Lists are ordered data types in pyhton.__\n",
    " * __Lists can contain any arbitrary objects.__\n",
    " * __List elements can be accessed by index value.__\n",
    " * __It also has two types of index value (Positive and Negative).__\n",
    " * __Lists can be nested to any arbitrary depth.__\n",
    " * __Lists are mutable.(Changable or modification is performed inside the list)__\n",
    " * __Lists are dynamic.__"
   ]
  },
  {
   "cell_type": "code",
   "execution_count": 3,
   "id": "416b03ea-cfac-47bf-a048-26dd9c857535",
   "metadata": {},
   "outputs": [
    {
     "name": "stdout",
     "output_type": "stream",
     "text": [
      "[]\n",
      "<class 'list'>\n"
     ]
    }
   ],
   "source": [
    "# how to creating a list. empty list\n",
    "\n",
    "list1=[]\n",
    "print(list1)\n",
    "print(type(list1))"
   ]
  },
  {
   "cell_type": "code",
   "execution_count": 5,
   "id": "758ff9fa-9275-4638-b106-f4cc8430516c",
   "metadata": {},
   "outputs": [
    {
     "name": "stdout",
     "output_type": "stream",
     "text": [
      "['Python', 25, 2024, 3.14]\n",
      "<class 'list'>\n"
     ]
    }
   ],
   "source": [
    "list1=['Python',25,2024,3.14]\n",
    "print(list1)\n",
    "print(type(list1))"
   ]
  },
  {
   "cell_type": "code",
   "execution_count": 11,
   "id": "ca635313-ec0e-447d-a190-7ab12abd7d05",
   "metadata": {},
   "outputs": [
    {
     "name": "stdout",
     "output_type": "stream",
     "text": [
      "Python\n",
      "25\n",
      "2024\n",
      "3.14\n"
     ]
    }
   ],
   "source": [
    "# Accessing positive index value.\n",
    "\n",
    "print(list1[0])\n",
    "print(list1[1])\n",
    "print(list1[2])\n",
    "print(list1[3])\n",
    "# print(list1[4])"
   ]
  },
  {
   "cell_type": "code",
   "execution_count": 17,
   "id": "ac0d7e1e-f0af-4256-ac3f-759b166e12c4",
   "metadata": {},
   "outputs": [
    {
     "name": "stdout",
     "output_type": "stream",
     "text": [
      "3.14\n",
      "2024\n",
      "25\n",
      "Python\n"
     ]
    }
   ],
   "source": [
    "# Negative indexing.\n",
    "\n",
    "print(list1[-1])\n",
    "print(list1[-2])\n",
    "print(list1[-3])\n",
    "print(list1[-4])\n",
    "# print(list1[-5])"
   ]
  },
  {
   "cell_type": "code",
   "execution_count": 23,
   "id": "0e0f94fe-6cb9-4628-a9e2-38e805070268",
   "metadata": {},
   "outputs": [
    {
     "name": "stdout",
     "output_type": "stream",
     "text": [
      "['Python', 25, 2024, 3.14]\n",
      "<class 'str'>\n",
      "<class 'int'>\n",
      "<class 'int'>\n",
      "<class 'float'>\n"
     ]
    }
   ],
   "source": [
    "print(list1)\n",
    "print(type(list1[0]))\n",
    "print(type(list1[1]))\n",
    "print(type(list1[2]))\n",
    "print(type(list1[3]))"
   ]
  },
  {
   "cell_type": "code",
   "execution_count": 29,
   "id": "dd473b84-9397-4903-a744-1106cc7237cd",
   "metadata": {},
   "outputs": [
    {
     "name": "stdout",
     "output_type": "stream",
     "text": [
      "['Python', 25, 2024, 3.14]\n",
      "y\n"
     ]
    }
   ],
   "source": [
    "print(list1)\n",
    "print(list1[0][1])"
   ]
  },
  {
   "cell_type": "code",
   "execution_count": 31,
   "id": "556fd8f7-126f-4736-aeef-5cf719e6d3bc",
   "metadata": {},
   "outputs": [
    {
     "ename": "TypeError",
     "evalue": "'int' object is not subscriptable",
     "output_type": "error",
     "traceback": [
      "\u001b[1;31m---------------------------------------------------------------------------\u001b[0m",
      "\u001b[1;31mTypeError\u001b[0m                                 Traceback (most recent call last)",
      "Cell \u001b[1;32mIn[31], line 1\u001b[0m\n\u001b[1;32m----> 1\u001b[0m \u001b[38;5;28mprint\u001b[39m(\u001b[43mlist1\u001b[49m\u001b[43m[\u001b[49m\u001b[38;5;241;43m1\u001b[39;49m\u001b[43m]\u001b[49m\u001b[43m[\u001b[49m\u001b[38;5;241;43m0\u001b[39;49m\u001b[43m]\u001b[49m)\n",
      "\u001b[1;31mTypeError\u001b[0m: 'int' object is not subscriptable"
     ]
    }
   ],
   "source": [
    "print(list1[1][0])"
   ]
  },
  {
   "cell_type": "markdown",
   "id": "82f74fc9-25d5-4b99-a472-9d89d481bff4",
   "metadata": {},
   "source": [
    "# What can content a list?\n",
    "\n",
    " * __Strings__\n",
    " * __Floats__\n",
    " * __Integer__\n",
    " * __Boolean__\n",
    " * __Nested List__\n",
    " * __Nested Tuple__\n",
    " * __Nested Dictionary__\n",
    " * __Nested Sets__\n",
    " * __and Other data sturcture.__"
   ]
  },
  {
   "cell_type": "code",
   "execution_count": 32,
   "id": "14d6453c-1730-4a42-a376-e6c971d50cd1",
   "metadata": {},
   "outputs": [
    {
     "data": {
      "text/plain": [
       "['Hello world',\n",
       " 3.147,\n",
       " 2024,\n",
       " True,\n",
       " False,\n",
       " ['Hey Python', 147],\n",
       " ('Hello world', 145),\n",
       " {'a': 145, 'b': 145},\n",
       " {1, 2, 5, 65}]"
      ]
     },
     "execution_count": 32,
     "metadata": {},
     "output_type": "execute_result"
    }
   ],
   "source": [
    "list1=['Hello world',3.147,2024,True,False,['Hey Python',147],('Hello world',145),{'a':145,'b':145},{1,2,5,65,5,5,}]\n",
    "list1"
   ]
  },
  {
   "cell_type": "code",
   "execution_count": 33,
   "id": "aba3bdaf-68f6-4f9d-aab3-989f805a78c6",
   "metadata": {},
   "outputs": [
    {
     "name": "stdout",
     "output_type": "stream",
     "text": [
      "['Hello world', 3.147, 2024, True, False, ['Hey Python', 147], ('Hello world', 145), {'a': 145, 'b': 145}, {65, 2, 5, 1}]\n"
     ]
    }
   ],
   "source": [
    "print(list1)"
   ]
  },
  {
   "cell_type": "code",
   "execution_count": 44,
   "id": "dd522c6f-af12-44bc-9f2f-63475dbac147",
   "metadata": {},
   "outputs": [
    {
     "name": "stdout",
     "output_type": "stream",
     "text": [
      "<class 'str'>\n",
      "<class 'float'>\n",
      "<class 'int'>\n",
      "<class 'bool'>\n",
      "<class 'bool'>\n",
      "<class 'list'>\n",
      "<class 'tuple'>\n",
      "<class 'dict'>\n",
      "<class 'set'>\n"
     ]
    }
   ],
   "source": [
    "print(type(list1[0]))\n",
    "print(type(list1[1]))\n",
    "print(type(list1[2]))\n",
    "print(type(list1[3]))\n",
    "print(type(list1[4]))\n",
    "print(type(list1[5]))\n",
    "print(type(list1[6]))\n",
    "print(type(list1[7]))\n",
    "print(type(list1[8]))"
   ]
  },
  {
   "cell_type": "code",
   "execution_count": 1,
   "id": "052e1ea2-e5ea-4e4f-b21d-8136683d8058",
   "metadata": {},
   "outputs": [
    {
     "data": {
      "text/plain": [
       "['Hello Amruta', 'Hello world', 10, 20, 25.23, True, False]"
      ]
     },
     "execution_count": 1,
     "metadata": {},
     "output_type": "execute_result"
    }
   ],
   "source": [
    "# Here is i.e CRUD operation will be performed inside the list.\n",
    "# C-> Creating, R- Reading the list, U-> Updating the list D-> Deleting the list.\n",
    "\n",
    "list1=[\"Hello Amruta\",\"Hello world\",10,20,25.23,True,False]\n",
    "list1"
   ]
  },
  {
   "cell_type": "code",
   "execution_count": 2,
   "id": "09451833-8b9d-4ee5-bd12-1e7658a81f7c",
   "metadata": {},
   "outputs": [
    {
     "data": {
      "text/plain": [
       "list"
      ]
     },
     "execution_count": 2,
     "metadata": {},
     "output_type": "execute_result"
    }
   ],
   "source": [
    "type(list1)"
   ]
  },
  {
   "cell_type": "code",
   "execution_count": 3,
   "id": "be74e053-8301-4bd5-8d9e-fd6d964f4be2",
   "metadata": {},
   "outputs": [
    {
     "data": {
      "text/plain": [
       "str"
      ]
     },
     "execution_count": 3,
     "metadata": {},
     "output_type": "execute_result"
    }
   ],
   "source": [
    "type(list1[0])"
   ]
  },
  {
   "cell_type": "code",
   "execution_count": 4,
   "id": "ae814222-bf2c-497c-8b6a-ef957863608a",
   "metadata": {},
   "outputs": [
    {
     "data": {
      "text/plain": [
       "['Hello Amruta', 'Hello world', 10, 20, 25.23, True, False]"
      ]
     },
     "execution_count": 4,
     "metadata": {},
     "output_type": "execute_result"
    }
   ],
   "source": [
    "# How to add new element inside the list: 1.append() method 2. Extend() metbod 3. insert() method. \n",
    "\n",
    "# append() \n",
    "# You can only one element add at one time with the help append method().\n",
    "\n",
    "list1"
   ]
  },
  {
   "cell_type": "code",
   "execution_count": 5,
   "id": "c3dee2c2-c692-4b48-8157-bdce5de84108",
   "metadata": {},
   "outputs": [
    {
     "data": {
      "text/plain": [
       "['Hello Amruta', 'Hello world', 10, 20, 25.23, True, False, 'Pune']"
      ]
     },
     "execution_count": 5,
     "metadata": {},
     "output_type": "execute_result"
    }
   ],
   "source": [
    "# append\n",
    "\n",
    "list1.append('Pune')\n",
    "list1"
   ]
  },
  {
   "cell_type": "code",
   "execution_count": 6,
   "id": "7c1d205a-6a38-43e4-ab19-4d74a63e4f92",
   "metadata": {},
   "outputs": [
    {
     "ename": "TypeError",
     "evalue": "list.append() takes exactly one argument (2 given)",
     "output_type": "error",
     "traceback": [
      "\u001b[1;31m---------------------------------------------------------------------------\u001b[0m",
      "\u001b[1;31mTypeError\u001b[0m                                 Traceback (most recent call last)",
      "Cell \u001b[1;32mIn[6], line 2\u001b[0m\n\u001b[0;32m      1\u001b[0m \u001b[38;5;66;03m# \u001b[39;00m\n\u001b[1;32m----> 2\u001b[0m \u001b[43mlist1\u001b[49m\u001b[38;5;241;43m.\u001b[39;49m\u001b[43mappend\u001b[49m\u001b[43m(\u001b[49m\u001b[38;5;124;43m'\u001b[39;49m\u001b[38;5;124;43mLucknow\u001b[39;49m\u001b[38;5;124;43m'\u001b[39;49m\u001b[43m,\u001b[49m\u001b[38;5;124;43m\"\u001b[39;49m\u001b[38;5;124;43mBangalore\u001b[39;49m\u001b[38;5;124;43m\"\u001b[39;49m\u001b[43m)\u001b[49m\n\u001b[0;32m      3\u001b[0m list1\n",
      "\u001b[1;31mTypeError\u001b[0m: list.append() takes exactly one argument (2 given)"
     ]
    }
   ],
   "source": [
    "# \n",
    "list1.append('Lucknow',\"Bangalore\")\n",
    "list1"
   ]
  },
  {
   "cell_type": "code",
   "execution_count": 7,
   "id": "8c5afef3-9148-441c-ab6f-1f5ad0eec4e4",
   "metadata": {},
   "outputs": [
    {
     "data": {
      "text/plain": [
       "['Hello world']"
      ]
     },
     "execution_count": 7,
     "metadata": {},
     "output_type": "execute_result"
    }
   ],
   "source": [
    "# Extend() method\n",
    "# Extend() method: You can add multiple element inside the list with the help of extend() method\n",
    "\n",
    "list2=['Hello world']\n",
    "list2"
   ]
  },
  {
   "cell_type": "code",
   "execution_count": 8,
   "id": "8f9ece65-53b0-4ad5-9bd0-6b7d76a673cc",
   "metadata": {},
   "outputs": [
    {
     "data": {
      "text/plain": [
       "['Hello world', 'Hello Amruta', 24, True, False]"
      ]
     },
     "execution_count": 8,
     "metadata": {},
     "output_type": "execute_result"
    }
   ],
   "source": [
    "list2.extend([\"Hello Amruta\",24,True,False])\n",
    "list2"
   ]
  },
  {
   "cell_type": "code",
   "execution_count": 9,
   "id": "773a68cf-bd4f-4d21-a05d-268b013d876d",
   "metadata": {},
   "outputs": [
    {
     "data": {
      "text/plain": [
       "['Hello world', 'Hello Amruta', 24, True, False]"
      ]
     },
     "execution_count": 9,
     "metadata": {},
     "output_type": "execute_result"
    }
   ],
   "source": [
    "# insert() method : it takes two parameter at one time. first parameter is your index vvalue and other parameter is value.\n",
    "\n",
    "list2"
   ]
  },
  {
   "cell_type": "code",
   "execution_count": 10,
   "id": "14cf59ef-73bc-4d7b-8cbc-8d365cf0c753",
   "metadata": {},
   "outputs": [
    {
     "data": {
      "text/plain": [
       "['Python', 'Hello world', 'Hello Amruta', 24, True, False]"
      ]
     },
     "execution_count": 10,
     "metadata": {},
     "output_type": "execute_result"
    }
   ],
   "source": [
    "list2.insert(0,'Python')\n",
    "list2"
   ]
  },
  {
   "cell_type": "code",
   "execution_count": 11,
   "id": "0d0e7cdc-0278-4762-81ff-ffa9a49c177a",
   "metadata": {},
   "outputs": [
    {
     "data": {
      "text/plain": [
       "['Python', 'Hello world', 'Hello Amruta', 24, True, False]"
      ]
     },
     "execution_count": 11,
     "metadata": {},
     "output_type": "execute_result"
    }
   ],
   "source": [
    "list2"
   ]
  },
  {
   "cell_type": "code",
   "execution_count": 13,
   "id": "4cf8f266-109d-4931-83b8-016633617b52",
   "metadata": {},
   "outputs": [
    {
     "data": {
      "text/plain": [
       "['Python', 'Hello world', 'Amruta Juturu', 24, True, False]"
      ]
     },
     "execution_count": 13,
     "metadata": {},
     "output_type": "execute_result"
    }
   ],
   "source": [
    "# juturu\n",
    "\n",
    "# updating the list\n",
    "\n",
    "list2[2]='Amruta Juturu'\n",
    "list2"
   ]
  },
  {
   "cell_type": "code",
   "execution_count": 14,
   "id": "a400c67e-8c6c-41a7-869b-360968fc981f",
   "metadata": {},
   "outputs": [
    {
     "data": {
      "text/plain": [
       "['Python', 'Hello world', 'Amruta Juturu', 'Sharma', True, False]"
      ]
     },
     "execution_count": 14,
     "metadata": {},
     "output_type": "execute_result"
    }
   ],
   "source": [
    "#\n",
    "list2[3]=\"Sharma\"\n",
    "list2"
   ]
  },
  {
   "cell_type": "code",
   "execution_count": 15,
   "id": "fd36ea4d-2b1f-459f-b622-66dbce4ff5b7",
   "metadata": {},
   "outputs": [
    {
     "data": {
      "text/plain": [
       "['Python', 'Hello world', 'Amruta Juturu', 'Sharma', True, False]"
      ]
     },
     "execution_count": 15,
     "metadata": {},
     "output_type": "execute_result"
    }
   ],
   "source": [
    "# how to delete the value inside the list\n",
    "\n",
    "list2"
   ]
  },
  {
   "cell_type": "code",
   "execution_count": 16,
   "id": "9cbeccf0-a647-4bbf-a718-c0b7b8ac3b06",
   "metadata": {},
   "outputs": [
    {
     "data": {
      "text/plain": [
       "False"
      ]
     },
     "execution_count": 16,
     "metadata": {},
     "output_type": "execute_result"
    }
   ],
   "source": [
    "# \n",
    "list2[-1]"
   ]
  },
  {
   "cell_type": "code",
   "execution_count": 17,
   "id": "e46189b2-924e-41fd-b8d2-6e056ff17b49",
   "metadata": {},
   "outputs": [],
   "source": [
    "# del() method\n",
    "del(list2[-1])"
   ]
  },
  {
   "cell_type": "code",
   "execution_count": 18,
   "id": "c14baee8-a627-44bb-b988-15a13de7ec5d",
   "metadata": {},
   "outputs": [
    {
     "data": {
      "text/plain": [
       "['Python', 'Hello world', 'Amruta Juturu', 'Sharma', True]"
      ]
     },
     "execution_count": 18,
     "metadata": {},
     "output_type": "execute_result"
    }
   ],
   "source": [
    "list2"
   ]
  },
  {
   "cell_type": "code",
   "execution_count": 20,
   "id": "e24ab8bc-ba04-4eee-9925-478722cad20e",
   "metadata": {},
   "outputs": [
    {
     "data": {
      "text/plain": [
       "['Python', 'Hello world', 'Amruta Juturu', 'Sharma']"
      ]
     },
     "execution_count": 20,
     "metadata": {},
     "output_type": "execute_result"
    }
   ],
   "source": [
    "del(list2[4])\n",
    "list2"
   ]
  },
  {
   "cell_type": "code",
   "execution_count": 21,
   "id": "5bed4b82-028b-4480-b6c5-11aae958e7f1",
   "metadata": {},
   "outputs": [
    {
     "data": {
      "text/plain": [
       "['Python', 'Hello world', 'Amruta Juturu', 'Sharma']"
      ]
     },
     "execution_count": 21,
     "metadata": {},
     "output_type": "execute_result"
    }
   ],
   "source": [
    "# how to copy the list.\n",
    "\n",
    "# 1. deep copy 2. sallow copy.\n",
    "list2"
   ]
  },
  {
   "cell_type": "code",
   "execution_count": 23,
   "id": "2da7ce9b-0152-43b4-9840-da9582c4ea40",
   "metadata": {},
   "outputs": [
    {
     "name": "stdout",
     "output_type": "stream",
     "text": [
      "['Python', 'Hello world', 'Amruta Juturu', 'Sharma']\n",
      "['Python', 'Hello world', 'Amruta Juturu', 'Sharma', 'Cow']\n"
     ]
    }
   ],
   "source": [
    "x1=list2   # Deep copy\n",
    "print(x1)\n",
    "\n",
    "# append mehto\n",
    "\n",
    "x1.append('Cow')\n",
    "print(x1)"
   ]
  },
  {
   "cell_type": "code",
   "execution_count": 24,
   "id": "4fb296f3-896a-485f-8d0a-0fec1388b7e9",
   "metadata": {},
   "outputs": [
    {
     "data": {
      "text/plain": [
       "['Python', 'Hello world', 'Amruta Juturu', 'Sharma', 'Cow']"
      ]
     },
     "execution_count": 24,
     "metadata": {},
     "output_type": "execute_result"
    }
   ],
   "source": [
    "list2"
   ]
  },
  {
   "cell_type": "code",
   "execution_count": 26,
   "id": "d27c9771-3278-4cb0-b1d1-4225e87b15fb",
   "metadata": {},
   "outputs": [
    {
     "name": "stdout",
     "output_type": "stream",
     "text": [
      "['Python', 'Hello world', 'Amruta Juturu', 'Sharma', 'Cow']\n",
      "['Python', 'Hello world', 'Amruta Juturu', 'Sharma', 'Cow', 1000]\n"
     ]
    }
   ],
   "source": [
    "# shallow  # copy() function\n",
    "\n",
    "x2=list2.copy()\n",
    "print(x2)\n",
    "\n",
    "x2.append(1000)\n",
    "\n",
    "print(x2)"
   ]
  },
  {
   "cell_type": "code",
   "execution_count": 27,
   "id": "edce19ae-8096-438c-ab7c-12a371ad941b",
   "metadata": {},
   "outputs": [
    {
     "data": {
      "text/plain": [
       "['Python', 'Hello world', 'Amruta Juturu', 'Sharma', 'Cow']"
      ]
     },
     "execution_count": 27,
     "metadata": {},
     "output_type": "execute_result"
    }
   ],
   "source": [
    "list2"
   ]
  },
  {
   "cell_type": "code",
   "execution_count": 30,
   "id": "823e96c9-03e6-430e-8e9c-42709bc213d2",
   "metadata": {},
   "outputs": [
    {
     "name": "stdout",
     "output_type": "stream",
     "text": [
      "['a', 'b', ['c', 'd'], 'e', True, 1, 2, 3, 4, 5, 6, True, False, 'e']\n"
     ]
    }
   ],
   "source": [
    "# concatenation the list\n",
    "\n",
    "a_list=['a','b',['c','d'],'e',True]\n",
    "\n",
    "b_list=[1,2,3,4,5,6,True,False,'e']\n",
    "\n",
    "new_list=a_list+b_list\n",
    "print(new_list)"
   ]
  },
  {
   "cell_type": "markdown",
   "id": "e4044927-58e0-4b42-936a-566e0dd057bd",
   "metadata": {},
   "source": [
    "# input() function \n",
    "\n",
    " * __With the help of input function you are able to take input from the user.__\n",
    " * __input() function in python provides a user to a program supply inputs to the program at runtime.__"
   ]
  },
  {
   "cell_type": "code",
   "execution_count": 38,
   "id": "2507a634-46b3-40c7-a0bf-b0c65595d3db",
   "metadata": {},
   "outputs": [
    {
     "name": "stdin",
     "output_type": "stream",
     "text": [
      "Enter any value hello\n"
     ]
    },
    {
     "ename": "ValueError",
     "evalue": "invalid literal for int() with base 10: 'hello'",
     "output_type": "error",
     "traceback": [
      "\u001b[1;31m---------------------------------------------------------------------------\u001b[0m",
      "\u001b[1;31mValueError\u001b[0m                                Traceback (most recent call last)",
      "Cell \u001b[1;32mIn[38], line 1\u001b[0m\n\u001b[1;32m----> 1\u001b[0m x\u001b[38;5;241m=\u001b[39m\u001b[38;5;28;43mint\u001b[39;49m\u001b[43m(\u001b[49m\u001b[38;5;28;43minput\u001b[39;49m\u001b[43m(\u001b[49m\u001b[38;5;124;43m'\u001b[39;49m\u001b[38;5;124;43mEnter any value\u001b[39;49m\u001b[38;5;124;43m'\u001b[39;49m\u001b[43m)\u001b[49m\u001b[43m)\u001b[49m\n\u001b[0;32m      2\u001b[0m \u001b[38;5;28mprint\u001b[39m(x)\n\u001b[0;32m      3\u001b[0m \u001b[38;5;28mprint\u001b[39m(\u001b[38;5;28mtype\u001b[39m(x))\n",
      "\u001b[1;31mValueError\u001b[0m: invalid literal for int() with base 10: 'hello'"
     ]
    }
   ],
   "source": [
    "x=int(input('Enter any value'))\n",
    "print(x)\n",
    "print(type(x))"
   ]
  },
  {
   "cell_type": "code",
   "execution_count": 37,
   "id": "594ca87c-4211-4412-86d2-904f5b13c4c9",
   "metadata": {},
   "outputs": [
    {
     "name": "stdin",
     "output_type": "stream",
     "text": [
      "Enter any value 10\n"
     ]
    },
    {
     "name": "stdout",
     "output_type": "stream",
     "text": [
      "10\n",
      "<class 'str'>\n"
     ]
    }
   ],
   "source": [
    "x=input('Enter any value')\n",
    "print(x)\n",
    "print(type(x))"
   ]
  },
  {
   "cell_type": "markdown",
   "id": "458d1873-466b-46f7-84c1-8d62ed7e834a",
   "metadata": {},
   "source": [
    "# eval() functions.\n",
    " * __This function serves the aim of converting a string to an integer or a float.__"
   ]
  },
  {
   "cell_type": "code",
   "execution_count": 43,
   "id": "6973d0bd-7c99-4d43-8a69-298c3f0b33e3",
   "metadata": {},
   "outputs": [
    {
     "name": "stdout",
     "output_type": "stream",
     "text": [
      "100 <class 'str'>\n",
      "100 <class 'int'>\n"
     ]
    }
   ],
   "source": [
    "x='100'\n",
    "print(x,type(x))\n",
    "\n",
    "y=eval(x)\n",
    "print(y,type(y))"
   ]
  },
  {
   "cell_type": "markdown",
   "id": "227d5fe8-0020-4e6a-aca4-0e98e7b51083",
   "metadata": {},
   "source": [
    "# format() function\n",
    "\n",
    " * __This function helps to format the outpur printed on the screen with good look and attractive.__"
   ]
  },
  {
   "cell_type": "code",
   "execution_count": 46,
   "id": "2f5a852e-c713-43ca-8cc6-1cf9fe8ae062",
   "metadata": {},
   "outputs": [
    {
     "name": "stdin",
     "output_type": "stream",
     "text": [
      "Enter any value: 45\n",
      "Enter second value: 63\n"
     ]
    },
    {
     "name": "stdout",
     "output_type": "stream",
     "text": [
      "Total value is: 108.0\n",
      "Sum of two values 45.0 and 63.0 is 108.0\n"
     ]
    }
   ],
   "source": [
    "a=float(input('Enter any value:'))\n",
    "b=float(input('Enter second value:'))\n",
    "\n",
    "total=a+b\n",
    "print('Total value is:',total)\n",
    "print('Sum of two values {} and {} is {}'.format(a,b,total))"
   ]
  },
  {
   "cell_type": "code",
   "execution_count": 45,
   "id": "9890036b-6904-4abb-a9a6-a549ec63eb3a",
   "metadata": {},
   "outputs": [
    {
     "name": "stdout",
     "output_type": "stream",
     "text": [
      "Sum of two values 10.0 and 20.0 is 30.0\n"
     ]
    }
   ],
   "source": [
    "# format function\n",
    "print('Sum of two values {} and {} is {}'.format(a,b,total))"
   ]
  },
  {
   "cell_type": "markdown",
   "id": "637ecb56-bc00-4f10-81d4-f11f6f7fdcaf",
   "metadata": {},
   "source": [
    "# Comaprison operator:\n",
    " * __The operators such <,>,<=,>=,==,!= compare the certain two operands and return True or False.__"
   ]
  },
  {
   "cell_type": "code",
   "execution_count": 52,
   "id": "660d0792-dff2-405b-8c84-9d03e9a358a9",
   "metadata": {},
   "outputs": [
    {
     "name": "stdout",
     "output_type": "stream",
     "text": [
      "a>b is: True\n",
      "a<b is: False\n",
      "a>=b: True\n",
      "a<=b: False\n",
      "a==b: False\n",
      "a!=b: True\n"
     ]
    }
   ],
   "source": [
    "a=3.14\n",
    "b= 1.618\n",
    "\n",
    "print('a>b is:',a>b)   # True\n",
    "print('a<b is:',a<b)  # False\n",
    "print('a>=b:',a>=b)    # or operator  =True\n",
    "print('a<=b:',a<=b)    # both condition are false then it return False\n",
    "print('a==b:',a==b)   # False\n",
    "print('a!=b:',a!=b)"
   ]
  },
  {
   "cell_type": "code",
   "execution_count": 57,
   "id": "28dba5dc-d592-480c-89c1-c7c02cdc2387",
   "metadata": {},
   "outputs": [
    {
     "name": "stdout",
     "output_type": "stream",
     "text": [
      "True\n",
      "False\n",
      "False\n",
      "False\n",
      "True\n"
     ]
    }
   ],
   "source": [
    "# Logical Operator are only Three (and,or,not)\n",
    "\n",
    "\n",
    "a=3.14\n",
    "b=1.618\n",
    "c=12\n",
    "d=3.14\n",
    "\n",
    "print(a>b and c>a)  # if both statement is true then it returns true\n",
    "print(a>c and c<a)  #\n",
    "print(c>a and d>a)  \n",
    "\n",
    "print(a==b and a!=c)\n",
    "print(a==d and c>b)"
   ]
  },
  {
   "cell_type": "code",
   "execution_count": 63,
   "id": "aa4e1c88-f6e5-435a-bcac-008128105c38",
   "metadata": {},
   "outputs": [
    {
     "name": "stdout",
     "output_type": "stream",
     "text": [
      "True\n",
      "True\n",
      "True\n",
      "True\n",
      "False\n"
     ]
    }
   ],
   "source": [
    "# or operator\n",
    "a=3.14\n",
    "b=1.618\n",
    "c=12\n",
    "d=3.14\n",
    "\n",
    "print(a>b or b>c)\n",
    "print(b>c or c>a)\n",
    "print(d>c or b<a) \n",
    "print(d>a or d<c)\n",
    "\n",
    "print(b>c or c<d)"
   ]
  },
  {
   "cell_type": "code",
   "execution_count": 67,
   "id": "8c7d7646-b7f3-4a61-99a7-b3b96b93cc4f",
   "metadata": {},
   "outputs": [
    {
     "name": "stdout",
     "output_type": "stream",
     "text": [
      "False\n",
      "True\n",
      "True\n",
      "False\n"
     ]
    }
   ],
   "source": [
    "# not operator\n",
    "a=3.14\n",
    "b=1.618\n",
    "c=12\n",
    "d=3.14\n",
    "print(a!=d)\n",
    "print(not(a!=d))\n",
    "print(not(a==5))\n",
    "print(not(True))"
   ]
  },
  {
   "cell_type": "markdown",
   "id": "8ab9888f-4056-4402-8c14-48aa06234b77",
   "metadata": {},
   "source": [
    "# Assignment Operator\n",
    "\n",
    " * __The operator including =,+=,-=,/=,%=,*/,**/ etc__"
   ]
  },
  {
   "cell_type": "code",
   "execution_count": 69,
   "id": "064768b2-f462-4067-afef-88bff555a7df",
   "metadata": {},
   "outputs": [
    {
     "data": {
      "text/plain": [
       "15"
      ]
     },
     "execution_count": 69,
     "metadata": {},
     "output_type": "execute_result"
    }
   ],
   "source": [
    "a=5\n",
    "\n",
    "a+=10   #first 5+10=15\n",
    "a"
   ]
  },
  {
   "cell_type": "code",
   "execution_count": 70,
   "id": "90e5968a-fdb4-4e5a-8b26-49c142f4e670",
   "metadata": {},
   "outputs": [
    {
     "data": {
      "text/plain": [
       "0"
      ]
     },
     "execution_count": 70,
     "metadata": {},
     "output_type": "execute_result"
    }
   ],
   "source": [
    "a=5\n",
    "\n",
    "a-=5 # 5-5=0\n",
    "a"
   ]
  },
  {
   "cell_type": "code",
   "execution_count": 71,
   "id": "18c3ef95-8a86-492a-b53f-f254f33f72c3",
   "metadata": {},
   "outputs": [
    {
     "data": {
      "text/plain": [
       "0.3333333333333333"
      ]
     },
     "execution_count": 71,
     "metadata": {},
     "output_type": "execute_result"
    }
   ],
   "source": [
    "a=5\n",
    "\n",
    "a/=15\n",
    "a"
   ]
  },
  {
   "cell_type": "code",
   "execution_count": 72,
   "id": "f3661564-d88b-4bb2-81b1-c6df0c137857",
   "metadata": {},
   "outputs": [
    {
     "data": {
      "text/plain": [
       "2"
      ]
     },
     "execution_count": 72,
     "metadata": {},
     "output_type": "execute_result"
    }
   ],
   "source": [
    "a=5\n",
    "\n",
    "a%=3  #\n",
    "\n",
    "a"
   ]
  },
  {
   "cell_type": "code",
   "execution_count": 73,
   "id": "7710f961-65b5-4580-81d2-5b52532f1d92",
   "metadata": {},
   "outputs": [
    {
     "data": {
      "text/plain": [
       "25"
      ]
     },
     "execution_count": 73,
     "metadata": {},
     "output_type": "execute_result"
    }
   ],
   "source": [
    "a=5\n",
    "\n",
    "a*=5\n",
    "a"
   ]
  },
  {
   "cell_type": "code",
   "execution_count": 74,
   "id": "c86b62d8-d1d6-4897-a999-1e9a45f78be5",
   "metadata": {},
   "outputs": [
    {
     "data": {
      "text/plain": [
       "9"
      ]
     },
     "execution_count": 74,
     "metadata": {},
     "output_type": "execute_result"
    }
   ],
   "source": [
    "# exponenetial\n",
    "\n",
    "a=3\n",
    "\n",
    "a**=2   # 3*3=9\n",
    "a"
   ]
  },
  {
   "cell_type": "markdown",
   "id": "4cc9a58a-24dc-4d6f-85b7-0cab4802f2e7",
   "metadata": {},
   "source": [
    "# Membership operators\n",
    "\n",
    " * __These operator including in and not in are empoloyed to check if the certain value is available in the sequence of values and return True or False.__"
   ]
  },
  {
   "cell_type": "code",
   "execution_count": 81,
   "id": "0d8d5cb5-38d7-41d1-acd3-4686bb6f409e",
   "metadata": {},
   "outputs": [
    {
     "name": "stdout",
     "output_type": "stream",
     "text": [
      "True\n",
      "False\n",
      "False\n",
      "True\n",
      "False\n"
     ]
    }
   ],
   "source": [
    "nlis=['Hello Amruta',45,'Hello',5]\n",
    "\n",
    "print(5 in nlis) \n",
    "print(5 not in nlis)\n",
    "print('hello' in nlis)\n",
    "print('Hello' in nlis)\n",
    "print(45 not in nlis)"
   ]
  },
  {
   "cell_type": "code",
   "execution_count": null,
   "id": "742e0ead-03dd-4bc6-bbb8-6fd78a15df2a",
   "metadata": {},
   "outputs": [],
   "source": []
  }
 ],
 "metadata": {
  "kernelspec": {
   "display_name": "Python 3 (ipykernel)",
   "language": "python",
   "name": "python3"
  },
  "language_info": {
   "codemirror_mode": {
    "name": "ipython",
    "version": 3
   },
   "file_extension": ".py",
   "mimetype": "text/x-python",
   "name": "python",
   "nbconvert_exporter": "python",
   "pygments_lexer": "ipython3",
   "version": "3.12.2"
  }
 },
 "nbformat": 4,
 "nbformat_minor": 5
}
