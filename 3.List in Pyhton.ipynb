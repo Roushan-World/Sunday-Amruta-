{
 "cells": [
  {
   "cell_type": "markdown",
   "id": "b595cd88-b8e6-47a4-9395-4d165caecedf",
   "metadata": {},
   "source": [
    "# 3. Lists in Python\n",
    "\n",
    " * __Lists are ordered data types in pyhton.__\n",
    " * __Lists can contain any arbitrary objects.__\n",
    " * __List elements can be accessed by index value.__\n",
    " * __It also has two types of index value (Positive and Negative).__\n",
    " * __Lists can be nested to any arbitrary depth.__\n",
    " * __Lists are mutable.(Changable or modification is performed inside the list)__\n",
    " * __Lists are dynamic.__"
   ]
  },
  {
   "cell_type": "code",
   "execution_count": 3,
   "id": "416b03ea-cfac-47bf-a048-26dd9c857535",
   "metadata": {},
   "outputs": [
    {
     "name": "stdout",
     "output_type": "stream",
     "text": [
      "[]\n",
      "<class 'list'>\n"
     ]
    }
   ],
   "source": [
    "# how to creating a list. empty list\n",
    "\n",
    "list1=[]\n",
    "print(list1)\n",
    "print(type(list1))"
   ]
  },
  {
   "cell_type": "code",
   "execution_count": 5,
   "id": "758ff9fa-9275-4638-b106-f4cc8430516c",
   "metadata": {},
   "outputs": [
    {
     "name": "stdout",
     "output_type": "stream",
     "text": [
      "['Python', 25, 2024, 3.14]\n",
      "<class 'list'>\n"
     ]
    }
   ],
   "source": [
    "list1=['Python',25,2024,3.14]\n",
    "print(list1)\n",
    "print(type(list1))"
   ]
  },
  {
   "cell_type": "code",
   "execution_count": 11,
   "id": "ca635313-ec0e-447d-a190-7ab12abd7d05",
   "metadata": {},
   "outputs": [
    {
     "name": "stdout",
     "output_type": "stream",
     "text": [
      "Python\n",
      "25\n",
      "2024\n",
      "3.14\n"
     ]
    }
   ],
   "source": [
    "# Accessing positive index value.\n",
    "\n",
    "print(list1[0])\n",
    "print(list1[1])\n",
    "print(list1[2])\n",
    "print(list1[3])\n",
    "# print(list1[4])"
   ]
  },
  {
   "cell_type": "code",
   "execution_count": 17,
   "id": "ac0d7e1e-f0af-4256-ac3f-759b166e12c4",
   "metadata": {},
   "outputs": [
    {
     "name": "stdout",
     "output_type": "stream",
     "text": [
      "3.14\n",
      "2024\n",
      "25\n",
      "Python\n"
     ]
    }
   ],
   "source": [
    "# Negative indexing.\n",
    "\n",
    "print(list1[-1])\n",
    "print(list1[-2])\n",
    "print(list1[-3])\n",
    "print(list1[-4])\n",
    "# print(list1[-5])"
   ]
  },
  {
   "cell_type": "code",
   "execution_count": 23,
   "id": "0e0f94fe-6cb9-4628-a9e2-38e805070268",
   "metadata": {},
   "outputs": [
    {
     "name": "stdout",
     "output_type": "stream",
     "text": [
      "['Python', 25, 2024, 3.14]\n",
      "<class 'str'>\n",
      "<class 'int'>\n",
      "<class 'int'>\n",
      "<class 'float'>\n"
     ]
    }
   ],
   "source": [
    "print(list1)\n",
    "print(type(list1[0]))\n",
    "print(type(list1[1]))\n",
    "print(type(list1[2]))\n",
    "print(type(list1[3]))"
   ]
  },
  {
   "cell_type": "code",
   "execution_count": 29,
   "id": "dd473b84-9397-4903-a744-1106cc7237cd",
   "metadata": {},
   "outputs": [
    {
     "name": "stdout",
     "output_type": "stream",
     "text": [
      "['Python', 25, 2024, 3.14]\n",
      "y\n"
     ]
    }
   ],
   "source": [
    "print(list1)\n",
    "print(list1[0][1])"
   ]
  },
  {
   "cell_type": "code",
   "execution_count": 31,
   "id": "556fd8f7-126f-4736-aeef-5cf719e6d3bc",
   "metadata": {},
   "outputs": [
    {
     "ename": "TypeError",
     "evalue": "'int' object is not subscriptable",
     "output_type": "error",
     "traceback": [
      "\u001b[1;31m---------------------------------------------------------------------------\u001b[0m",
      "\u001b[1;31mTypeError\u001b[0m                                 Traceback (most recent call last)",
      "Cell \u001b[1;32mIn[31], line 1\u001b[0m\n\u001b[1;32m----> 1\u001b[0m \u001b[38;5;28mprint\u001b[39m(\u001b[43mlist1\u001b[49m\u001b[43m[\u001b[49m\u001b[38;5;241;43m1\u001b[39;49m\u001b[43m]\u001b[49m\u001b[43m[\u001b[49m\u001b[38;5;241;43m0\u001b[39;49m\u001b[43m]\u001b[49m)\n",
      "\u001b[1;31mTypeError\u001b[0m: 'int' object is not subscriptable"
     ]
    }
   ],
   "source": [
    "print(list1[1][0])"
   ]
  },
  {
   "cell_type": "markdown",
   "id": "82f74fc9-25d5-4b99-a472-9d89d481bff4",
   "metadata": {},
   "source": [
    "# What can content a list?\n",
    "\n",
    " * __Strings__\n",
    " * __Floats__\n",
    " * __Integer__\n",
    " * __Boolean__\n",
    " * __Nested List__\n",
    " * __Nested Tuple__\n",
    " * __Nested Dictionary__\n",
    " * __Nested Sets__\n",
    " * __and Other data sturcture.__"
   ]
  },
  {
   "cell_type": "code",
   "execution_count": 32,
   "id": "14d6453c-1730-4a42-a376-e6c971d50cd1",
   "metadata": {},
   "outputs": [
    {
     "data": {
      "text/plain": [
       "['Hello world',\n",
       " 3.147,\n",
       " 2024,\n",
       " True,\n",
       " False,\n",
       " ['Hey Python', 147],\n",
       " ('Hello world', 145),\n",
       " {'a': 145, 'b': 145},\n",
       " {1, 2, 5, 65}]"
      ]
     },
     "execution_count": 32,
     "metadata": {},
     "output_type": "execute_result"
    }
   ],
   "source": [
    "list1=['Hello world',3.147,2024,True,False,['Hey Python',147],('Hello world',145),{'a':145,'b':145},{1,2,5,65,5,5,}]\n",
    "list1"
   ]
  },
  {
   "cell_type": "code",
   "execution_count": 33,
   "id": "aba3bdaf-68f6-4f9d-aab3-989f805a78c6",
   "metadata": {},
   "outputs": [
    {
     "name": "stdout",
     "output_type": "stream",
     "text": [
      "['Hello world', 3.147, 2024, True, False, ['Hey Python', 147], ('Hello world', 145), {'a': 145, 'b': 145}, {65, 2, 5, 1}]\n"
     ]
    }
   ],
   "source": [
    "print(list1)"
   ]
  },
  {
   "cell_type": "code",
   "execution_count": 44,
   "id": "dd522c6f-af12-44bc-9f2f-63475dbac147",
   "metadata": {},
   "outputs": [
    {
     "name": "stdout",
     "output_type": "stream",
     "text": [
      "<class 'str'>\n",
      "<class 'float'>\n",
      "<class 'int'>\n",
      "<class 'bool'>\n",
      "<class 'bool'>\n",
      "<class 'list'>\n",
      "<class 'tuple'>\n",
      "<class 'dict'>\n",
      "<class 'set'>\n"
     ]
    }
   ],
   "source": [
    "print(type(list1[0]))\n",
    "print(type(list1[1]))\n",
    "print(type(list1[2]))\n",
    "print(type(list1[3]))\n",
    "print(type(list1[4]))\n",
    "print(type(list1[5]))\n",
    "print(type(list1[6]))\n",
    "print(type(list1[7]))\n",
    "print(type(list1[8]))"
   ]
  },
  {
   "cell_type": "code",
   "execution_count": null,
   "id": "052e1ea2-e5ea-4e4f-b21d-8136683d8058",
   "metadata": {},
   "outputs": [],
   "source": [
    "# Here is i.e CRUD operation will be performed inside the list.\n",
    "# C-> Creating, R- Reading the list, U-> Updating the list D-> Deleting the list.\n",
    "\n"
   ]
  }
 ],
 "metadata": {
  "kernelspec": {
   "display_name": "Python 3 (ipykernel)",
   "language": "python",
   "name": "python3"
  },
  "language_info": {
   "codemirror_mode": {
    "name": "ipython",
    "version": 3
   },
   "file_extension": ".py",
   "mimetype": "text/x-python",
   "name": "python",
   "nbconvert_exporter": "python",
   "pygments_lexer": "ipython3",
   "version": "3.12.2"
  }
 },
 "nbformat": 4,
 "nbformat_minor": 5
}
