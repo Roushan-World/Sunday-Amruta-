{
 "cells": [
  {
   "cell_type": "markdown",
   "id": "eb10a3f6-bd5d-4b16-90b2-e2db1e204a9d",
   "metadata": {},
   "source": [
    "# 5. Sets in Python\n",
    "\n",
    " * __Set is one of 4 build-in data types in Python used to store collections of data including List, Tuple and Dictionary.__\n",
    " * __Sets are unordered, but you can remove items and add new items.__\n",
    " * __Set elements are unique. Duplicate elements are not allowed.__\n",
    " * __A set itself may be modified, but the element contained in the set must be an immutable type.__\n",
    " * __Sets are used to store multiple items in a single variable.__\n",
    " * __You can denote a set with a pair of curly brackets {}.__"
   ]
  },
  {
   "cell_type": "code",
   "execution_count": 6,
   "id": "7431e708-98ff-444e-9967-99e84d17883d",
   "metadata": {},
   "outputs": [
    {
     "name": "stdout",
     "output_type": "stream",
     "text": [
      "{}\n",
      "<class 'dict'>\n"
     ]
    }
   ],
   "source": [
    "# creating empty \n",
    "x={}\n",
    "print(x)\n",
    "print(type(x))"
   ]
  },
  {
   "cell_type": "code",
   "execution_count": 7,
   "id": "1bc9e871-2311-4b93-bb0e-20b31ea0436a",
   "metadata": {},
   "outputs": [
    {
     "name": "stdout",
     "output_type": "stream",
     "text": [
      "set()\n",
      "<class 'set'>\n"
     ]
    }
   ],
   "source": [
    "# creating empty set\n",
    "\n",
    "x1=set()\n",
    "print(x1)\n",
    "print(type(x1))"
   ]
  },
  {
   "cell_type": "code",
   "execution_count": 9,
   "id": "26c68dea-4772-4a77-877c-bc33c5541373",
   "metadata": {},
   "outputs": [
    {
     "name": "stdout",
     "output_type": "stream",
     "text": [
      "{False, True, 5, 40, 2024, 78, 15, 19, 20, 'Hello Python'}\n",
      "<class 'set'>\n"
     ]
    }
   ],
   "source": [
    "# Take a set\n",
    "set1={'Hello Python',15,20,40,78,5,19,True,False,2024}\n",
    "print(set1)\n",
    "print(type(set1))"
   ]
  },
  {
   "cell_type": "code",
   "execution_count": 10,
   "id": "49dd2cca-17e6-40b7-afef-00442ed70ffa",
   "metadata": {},
   "outputs": [
    {
     "ename": "TypeError",
     "evalue": "'set' object is not subscriptable",
     "output_type": "error",
     "traceback": [
      "\u001b[1;31m---------------------------------------------------------------------------\u001b[0m",
      "\u001b[1;31mTypeError\u001b[0m                                 Traceback (most recent call last)",
      "Cell \u001b[1;32mIn[10], line 1\u001b[0m\n\u001b[1;32m----> 1\u001b[0m \u001b[43mset1\u001b[49m\u001b[43m[\u001b[49m\u001b[38;5;241;43m0\u001b[39;49m\u001b[43m]\u001b[49m\n",
      "\u001b[1;31mTypeError\u001b[0m: 'set' object is not subscriptable"
     ]
    }
   ],
   "source": [
    "set1[0]"
   ]
  },
  {
   "cell_type": "markdown",
   "id": "e9a926c8-8cf0-4d2e-8e18-50bca68aa5ce",
   "metadata": {},
   "source": [
    "# Converting list to the set."
   ]
  },
  {
   "cell_type": "code",
   "execution_count": 11,
   "id": "611b6b91-061e-4d28-8345-c7cfd4299641",
   "metadata": {},
   "outputs": [
    {
     "name": "stdout",
     "output_type": "stream",
     "text": [
      "{1.618, 3.14, 10, 20, 'Hello Python'}\n"
     ]
    }
   ],
   "source": [
    "# A list can converted to a set\n",
    "\n",
    "nlis=['Hello Python',3.14,3.14,1.618,1.618,10,10,10,10,20,20,20,20,20]\n",
    "\n",
    "set2=set(nlis)\n",
    "print(set2)"
   ]
  },
  {
   "cell_type": "code",
   "execution_count": 12,
   "id": "2201bfdd-4637-4ff5-94c0-caccda89100e",
   "metadata": {},
   "outputs": [
    {
     "name": "stdout",
     "output_type": "stream",
     "text": [
      "[1.618, 3.14, 10, 20, 'Hello Python']\n"
     ]
    }
   ],
   "source": [
    "list1=list(set2)\n",
    "print(list1)"
   ]
  },
  {
   "cell_type": "code",
   "execution_count": 13,
   "id": "05d8c14e-c7ec-443c-bbce-6daaea40c5d9",
   "metadata": {},
   "outputs": [
    {
     "data": {
      "text/plain": [
       "{1.618, 10, 20, 3.14, 'Hello Python'}"
      ]
     },
     "execution_count": 13,
     "metadata": {},
     "output_type": "execute_result"
    }
   ],
   "source": [
    "set2"
   ]
  },
  {
   "cell_type": "code",
   "execution_count": 14,
   "id": "89d646c7-3155-4a5f-a9b8-d2f59fe11764",
   "metadata": {},
   "outputs": [
    {
     "data": {
      "text/plain": [
       "{1.618, 10, 20, 3.14, 'Hello Python'}"
      ]
     },
     "execution_count": 14,
     "metadata": {},
     "output_type": "execute_result"
    }
   ],
   "source": [
    "# Add() function: To add an element into a set, we use the function add(). If the same element is added to the set, \n",
    "# nothing will happen beacuase the set accespts no duplicate.\n",
    "\n",
    "set3=set(['Hello Python',3.14,3.14,1.618,1.618,10,10,10,10,20,20,20,20,20])\n",
    "set3"
   ]
  },
  {
   "cell_type": "code",
   "execution_count": 15,
   "id": "42a9e5e4-0776-4e89-a829-f000e84ca2bc",
   "metadata": {},
   "outputs": [
    {
     "data": {
      "text/plain": [
       "{1.618, 10, 20, 3.14, 'Amruta Juturu', 'Hello Python'}"
      ]
     },
     "execution_count": 15,
     "metadata": {},
     "output_type": "execute_result"
    }
   ],
   "source": [
    "set3.add('Amruta Juturu')\n",
    "set3"
   ]
  },
  {
   "cell_type": "code",
   "execution_count": 16,
   "id": "ed5efa2d-cd72-4705-9ae7-9e1b673ea962",
   "metadata": {},
   "outputs": [
    {
     "name": "stdout",
     "output_type": "stream",
     "text": [
      "{8, 9, 6, 7}\n"
     ]
    },
    {
     "data": {
      "text/plain": [
       "{6, 7, 8, 9, 10}"
      ]
     },
     "execution_count": 16,
     "metadata": {},
     "output_type": "execute_result"
    }
   ],
   "source": [
    "# Updating the set.\n",
    "\n",
    "x_set={6,7,8,9}\n",
    "print(x_set)\n",
    "x_set.update({7,8,9,10})\n",
    "x_set"
   ]
  },
  {
   "cell_type": "code",
   "execution_count": 17,
   "id": "8f899d2c-a3be-4e33-a10a-f1d7d694063c",
   "metadata": {},
   "outputs": [
    {
     "data": {
      "text/plain": [
       "{1.618, 10, 20, 3.14, 'Amruta Juturu', 'Hello Python'}"
      ]
     },
     "execution_count": 17,
     "metadata": {},
     "output_type": "execute_result"
    }
   ],
   "source": [
    "# remove() function\n",
    "\n",
    "# To remove an element from the set.\n",
    "set3"
   ]
  },
  {
   "cell_type": "code",
   "execution_count": 18,
   "id": "b787f41c-6361-4419-868c-de3ca9020a2a",
   "metadata": {},
   "outputs": [
    {
     "data": {
      "text/plain": [
       "{1.618, 10, 20, 3.14, 'Amruta Juturu'}"
      ]
     },
     "execution_count": 18,
     "metadata": {},
     "output_type": "execute_result"
    }
   ],
   "source": [
    "set3.remove('Hello Python')\n",
    "set3"
   ]
  },
  {
   "cell_type": "code",
   "execution_count": 19,
   "id": "d8090f5e-4e95-4264-a05a-38048391f95a",
   "metadata": {},
   "outputs": [
    {
     "ename": "KeyError",
     "evalue": "'Hello Python'",
     "output_type": "error",
     "traceback": [
      "\u001b[1;31m---------------------------------------------------------------------------\u001b[0m",
      "\u001b[1;31mKeyError\u001b[0m                                  Traceback (most recent call last)",
      "Cell \u001b[1;32mIn[19], line 1\u001b[0m\n\u001b[1;32m----> 1\u001b[0m \u001b[43mset3\u001b[49m\u001b[38;5;241;43m.\u001b[39;49m\u001b[43mremove\u001b[49m\u001b[43m(\u001b[49m\u001b[38;5;124;43m'\u001b[39;49m\u001b[38;5;124;43mHello Python\u001b[39;49m\u001b[38;5;124;43m'\u001b[39;49m\u001b[43m)\u001b[49m\n\u001b[0;32m      2\u001b[0m set3\n",
      "\u001b[1;31mKeyError\u001b[0m: 'Hello Python'"
     ]
    }
   ],
   "source": [
    "set3.remove('Hello Python')\n",
    "set3"
   ]
  },
  {
   "cell_type": "code",
   "execution_count": 20,
   "id": "2be2f860-4c9e-4b16-98ab-c86136a33d1b",
   "metadata": {},
   "outputs": [
    {
     "data": {
      "text/plain": [
       "{1.618, 10, 20, 3.14, 'Amruta Juturu'}"
      ]
     },
     "execution_count": 20,
     "metadata": {},
     "output_type": "execute_result"
    }
   ],
   "source": [
    "# discard () function\n",
    "# It leaves the set unchanged if the element to be deleted if element is not present inside the set it doen't through an error.\n",
    "\n",
    "set3"
   ]
  },
  {
   "cell_type": "code",
   "execution_count": 21,
   "id": "ce507c14-87e1-4a8c-a8af-7ccf290f0af9",
   "metadata": {},
   "outputs": [
    {
     "data": {
      "text/plain": [
       "{1.618, 20, 3.14, 'Amruta Juturu'}"
      ]
     },
     "execution_count": 21,
     "metadata": {},
     "output_type": "execute_result"
    }
   ],
   "source": [
    "set3.discard(10)\n",
    "set3"
   ]
  },
  {
   "cell_type": "code",
   "execution_count": 22,
   "id": "a1ff9d0f-216f-4a83-b30f-7190f7f0a535",
   "metadata": {},
   "outputs": [
    {
     "data": {
      "text/plain": [
       "{1.618, 20, 3.14, 'Amruta Juturu'}"
      ]
     },
     "execution_count": 22,
     "metadata": {},
     "output_type": "execute_result"
    }
   ],
   "source": [
    "set3.discard(10)\n",
    "set3"
   ]
  },
  {
   "cell_type": "markdown",
   "id": "a5acbe6d-3d5a-4a2d-bd6f-864903c2f07b",
   "metadata": {},
   "source": [
    "# Logic operations in Set\n",
    "\n",
    " * __1. Union__\n",
    " * __2. Intersection__\n",
    " * __3. Difference (a-b),(b-a)__\n",
    " * __4. Symmetric Difference__"
   ]
  },
  {
   "cell_type": "code",
   "execution_count": 23,
   "id": "82cbc601-7243-473a-ad9f-aee7d86ca6d2",
   "metadata": {},
   "outputs": [
    {
     "data": {
      "text/plain": [
       "{2, 4, 6, 8, 10, 12, 14}"
      ]
     },
     "execution_count": 23,
     "metadata": {},
     "output_type": "execute_result"
    }
   ],
   "source": [
    "# 1. union inside the two sets.\n",
    "set4={2,4,6,8}\n",
    "set5={6,8,10,12,14}\n",
    "\n",
    "set4.union(set5)\n"
   ]
  },
  {
   "cell_type": "code",
   "execution_count": 25,
   "id": "76c4ed3a-d352-4ffb-942b-6ad5fd1f1e0f",
   "metadata": {},
   "outputs": [
    {
     "data": {
      "text/plain": [
       "{6, 8}"
      ]
     },
     "execution_count": 25,
     "metadata": {},
     "output_type": "execute_result"
    }
   ],
   "source": [
    "# Intersection: it returns the duplicate value from two sets.\n",
    "set4={2,4,6,8}\n",
    "set5={6,8,10,12,14}\n",
    "\n",
    "set4.intersection(set5)"
   ]
  },
  {
   "cell_type": "code",
   "execution_count": 27,
   "id": "6f5370dd-339a-4efd-bb9e-4c2f93a4ecc4",
   "metadata": {},
   "outputs": [
    {
     "name": "stdout",
     "output_type": "stream",
     "text": [
      "{'b', 'a'}\n",
      "{'i', 'h', 'f', 'g', 'e'}\n"
     ]
    }
   ],
   "source": [
    "# Difference\n",
    "\n",
    "set_4={'a','b','c','d'}   # a\n",
    "set_5={'c','d','e','f','g','h','i'}   #b\n",
    "\n",
    "\n",
    "# a-b\n",
    "print(set_4-set_5)\n",
    "# b-a\n",
    "print(set_5-set_4)"
   ]
  },
  {
   "cell_type": "code",
   "execution_count": 30,
   "id": "95b05cef-14f5-4f25-9606-30fd7f56ac68",
   "metadata": {},
   "outputs": [
    {
     "name": "stdout",
     "output_type": "stream",
     "text": [
      "{'b', 'a'}\n",
      "{'i', 'h', 'f', 'g', 'e'}\n"
     ]
    }
   ],
   "source": [
    "# anohter method to print same element \n",
    "\n",
    "print(set_4.difference(set_5))  # a-b\n",
    "print(set_5.difference(set_4))  # b-a"
   ]
  },
  {
   "cell_type": "code",
   "execution_count": 31,
   "id": "f84e281c-b993-4649-847f-f4353819b60b",
   "metadata": {},
   "outputs": [
    {
     "name": "stdout",
     "output_type": "stream",
     "text": [
      "{'i', 'h', 'f', 'g', 'a', 'b', 'e'}\n"
     ]
    }
   ],
   "source": [
    "# symmetric differe\n",
    "\n",
    "print(set_4.symmetric_difference(set_5))"
   ]
  },
  {
   "cell_type": "code",
   "execution_count": 38,
   "id": "05f243d2-7b64-44fd-a04e-8c01be2d952b",
   "metadata": {},
   "outputs": [
    {
     "name": "stdout",
     "output_type": "stream",
     "text": [
      "The minimum number of a is: 1\n",
      "The minimum number of b is: 1\n",
      "The maximum number of a is: 6\n",
      "The maximum number of b is: 6\n",
      "The sum of number of a is: 42\n",
      "The sum of number of b is: 21\n",
      "The lenght of the number a is: 12\n",
      "The lenght of the number b is: 6\n"
     ]
    }
   ],
   "source": [
    "# Aggrigate function (min(),max(), and sum() functions)\n",
    "\n",
    "A = [1,1,2,2,3,3,4,4,5,5,6,6]\n",
    "B= {1,1,2,2,3,3,4,4,5,5,6,6}   # 1,2,3,4,5,6 = 21\n",
    "print('The minimum number of a is:',min(A))\n",
    "print('The minimum number of b is:',min(B))\n",
    "print('The maximum number of a is:',max(A))\n",
    "print('The maximum number of b is:',max(B))\n",
    "print('The sum of number of a is:',sum(A))\n",
    "print('The sum of number of b is:',sum(B))\n",
    "print('The lenght of the number a is:',len(A))\n",
    "print('The lenght of the number b is:',len(B))"
   ]
  },
  {
   "cell_type": "markdown",
   "id": "b3e59948-87e9-4ee5-8e2b-0cc1ee2e9243",
   "metadata": {},
   "source": [
    "# No mutable sequence in a set"
   ]
  },
  {
   "cell_type": "code",
   "execution_count": 39,
   "id": "8a2ba52a-909d-418d-b126-ed2ee07345a2",
   "metadata": {},
   "outputs": [
    {
     "ename": "TypeError",
     "evalue": "unhashable type: 'list'",
     "output_type": "error",
     "traceback": [
      "\u001b[1;31m---------------------------------------------------------------------------\u001b[0m",
      "\u001b[1;31mTypeError\u001b[0m                                 Traceback (most recent call last)",
      "Cell \u001b[1;32mIn[39], line 1\u001b[0m\n\u001b[1;32m----> 1\u001b[0m set6\u001b[38;5;241m=\u001b[39m{\u001b[38;5;124m'\u001b[39m\u001b[38;5;124mPython\u001b[39m\u001b[38;5;124m'\u001b[39m,\u001b[38;5;241m1\u001b[39m,\u001b[38;5;241m2\u001b[39m,\u001b[38;5;241m3\u001b[39m,\u001b[38;5;241m4\u001b[39m,[\u001b[38;5;241m1\u001b[39m,\u001b[38;5;241m2\u001b[39m,\u001b[38;5;241m3\u001b[39m]}\n\u001b[0;32m      2\u001b[0m set6\n",
      "\u001b[1;31mTypeError\u001b[0m: unhashable type: 'list'"
     ]
    }
   ],
   "source": [
    "set6={'Python',1,2,3,4,[1,2,3]}\n",
    "set6"
   ]
  },
  {
   "cell_type": "markdown",
   "id": "9cc491e7-da29-4326-b3d6-4c82a7b133e1",
   "metadata": {},
   "source": [
    "# index() function\n",
    " * __This function does not work in set since the set is unordered collections.__"
   ]
  },
  {
   "cell_type": "code",
   "execution_count": 40,
   "id": "d4645928-9286-4403-b431-22a72d0cbefc",
   "metadata": {},
   "outputs": [
    {
     "ename": "TypeError",
     "evalue": "'set' object is not subscriptable",
     "output_type": "error",
     "traceback": [
      "\u001b[1;31m---------------------------------------------------------------------------\u001b[0m",
      "\u001b[1;31mTypeError\u001b[0m                                 Traceback (most recent call last)",
      "Cell \u001b[1;32mIn[40], line 2\u001b[0m\n\u001b[0;32m      1\u001b[0m set7\u001b[38;5;241m=\u001b[39m{\u001b[38;5;241m1\u001b[39m,\u001b[38;5;241m2\u001b[39m,\u001b[38;5;241m3\u001b[39m}\n\u001b[1;32m----> 2\u001b[0m \u001b[43mset7\u001b[49m\u001b[43m[\u001b[49m\u001b[38;5;241;43m0\u001b[39;49m\u001b[43m]\u001b[49m\n",
      "\u001b[1;31mTypeError\u001b[0m: 'set' object is not subscriptable"
     ]
    }
   ],
   "source": [
    "set7={1,2,3}\n",
    "set7[0]"
   ]
  },
  {
   "cell_type": "markdown",
   "id": "560fe1d0-498c-4dc0-bc87-56c14ae80464",
   "metadata": {},
   "source": [
    "# clear() function\n",
    "\n",
    " * __It removes all elements in the set and then do the set empty.__"
   ]
  },
  {
   "cell_type": "code",
   "execution_count": 42,
   "id": "037abd68-3176-4ebd-be13-3cc51cd8512d",
   "metadata": {},
   "outputs": [
    {
     "name": "stdout",
     "output_type": "stream",
     "text": [
      "{0, 1, 2, 3, 34, 5, 8, 13, 21}\n",
      "set()\n"
     ]
    }
   ],
   "source": [
    "x={0,1,1,2,3,5,8,13,21,34}\n",
    "print(x)\n",
    "x.clear()\n",
    "print(x)"
   ]
  },
  {
   "cell_type": "markdown",
   "id": "246e9402-a23c-4529-bb58-bf7670a8bb2a",
   "metadata": {},
   "source": [
    "# pop() function\n",
    "\n",
    " * __It removes and return an arbitrary set element.__"
   ]
  },
  {
   "cell_type": "code",
   "execution_count": 43,
   "id": "a0d59660-b7dd-43b7-a5ea-dd529c43bfad",
   "metadata": {},
   "outputs": [
    {
     "name": "stdout",
     "output_type": "stream",
     "text": [
      "{0, 1, 2, 3, 34, 5, 8, 13, 21}\n"
     ]
    }
   ],
   "source": [
    "x={0,1,1,2,3,5,8,13,21,34}\n",
    "print(x)"
   ]
  },
  {
   "cell_type": "code",
   "execution_count": 44,
   "id": "866486fb-8f2e-4776-b284-279a559299c5",
   "metadata": {},
   "outputs": [
    {
     "data": {
      "text/plain": [
       "0"
      ]
     },
     "execution_count": 44,
     "metadata": {},
     "output_type": "execute_result"
    }
   ],
   "source": [
    "x.pop()"
   ]
  },
  {
   "cell_type": "code",
   "execution_count": null,
   "id": "ef09ff2f-32bf-4255-bc68-0adf02a7adad",
   "metadata": {},
   "outputs": [],
   "source": []
  }
 ],
 "metadata": {
  "kernelspec": {
   "display_name": "Python 3 (ipykernel)",
   "language": "python",
   "name": "python3"
  },
  "language_info": {
   "codemirror_mode": {
    "name": "ipython",
    "version": 3
   },
   "file_extension": ".py",
   "mimetype": "text/x-python",
   "name": "python",
   "nbconvert_exporter": "python",
   "pygments_lexer": "ipython3",
   "version": "3.12.2"
  }
 },
 "nbformat": 4,
 "nbformat_minor": 5
}
