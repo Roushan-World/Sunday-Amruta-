{
 "cells": [
  {
   "cell_type": "markdown",
   "id": "ed77fc19-b4df-45e6-9a8c-37a64ed484de",
   "metadata": {},
   "source": [
    "# 7. Conditions in Python\n",
    "\n",
    " * __Comparision Operator.__\n",
    " * __Less than__\n",
    " * __Greter than__\n",
    " * __Less than or equal to__\n",
    " * __greter than or equal to__\n",
    " * __Equal to(==)__\n",
    " * __Not equal to(!=)__\n",
    "\n",
    "# Branching if,elif,else\n",
    " * __Decision making is require when we want ot execute a code only if a certian condition is satisfied.__\n",
    " * __The if/elif/else statement is used in Python for decision making.__\n",
    " * __An else statement can be combined with an if statement.__\n",
    " * __An else statement contains the block of code that executes if the conditional expression in the if statemenet resolves to 0 or a False value.__\n",
    " * __The elif statemnt allows you to check multiple expressions for True and execute a block of code as soon as one fo the conditions evaluates to True.__\n",
    " * __Similar to the else, the elif statemnt is optional.__\n",
    " * __However, unlike else, for which there can be most one statemet, there can be an aritrary number of elif statemnts following an if.__"
   ]
  },
  {
   "cell_type": "code",
   "execution_count": 3,
   "id": "fcc5a39b-060f-4fd8-8e4b-28fe0d6612e3",
   "metadata": {},
   "outputs": [
    {
     "name": "stdout",
     "output_type": "stream",
     "text": [
      "Your can go to kindergarten.\n"
     ]
    }
   ],
   "source": [
    "age=5\n",
    "\n",
    "if age>4:\n",
    "    print('Your can go to kindergarten.')\n",
    "\n",
    "else:\n",
    "    print('You are a baby')"
   ]
  },
  {
   "cell_type": "code",
   "execution_count": 5,
   "id": "f87a6d72-c7c1-4a41-a115-1c325c42bfc4",
   "metadata": {},
   "outputs": [
    {
     "name": "stdout",
     "output_type": "stream",
     "text": [
      "You can go to kindergarten\n"
     ]
    }
   ],
   "source": [
    "age=5\n",
    "\n",
    "if age>6:\n",
    "    print('Yor can go to primary school')\n",
    "elif age==5:\n",
    "    print('You can go to kindergarten')\n",
    "else:\n",
    "    print('you are a baby')"
   ]
  },
  {
   "cell_type": "code",
   "execution_count": 8,
   "id": "0f21b1f6-ff8d-4f5e-aafb-f16d023ec990",
   "metadata": {},
   "outputs": [
    {
     "name": "stdin",
     "output_type": "stream",
     "text": [
      "Enter your age 15\n"
     ]
    },
    {
     "name": "stdout",
     "output_type": "stream",
     "text": [
      "Not elegible for voting.\n"
     ]
    }
   ],
   "source": [
    "# wap to take input from the user and chek voting elegiblity if person age is greater then or equal \n",
    "# to 18 the he/she elegible for voting otherwoise not elegible for voting.\n",
    "\n",
    "age=int(input('Enter your age'))\n",
    "\n",
    "if age>=18:\n",
    "    print('You are elegible for voting')\n",
    "else:\n",
    "    print('Not elegible for voting.')"
   ]
  },
  {
   "cell_type": "code",
   "execution_count": 13,
   "id": "56a5e178-b1e8-44cc-83b1-3857eaa641e2",
   "metadata": {},
   "outputs": [
    {
     "name": "stdin",
     "output_type": "stream",
     "text": [
      "Enter any value from 1-7 4\n"
     ]
    },
    {
     "name": "stdout",
     "output_type": "stream",
     "text": [
      "Thursday\n"
     ]
    }
   ],
   "source": [
    "# wap to take input from user if input given 1 then displayed 1=\"Monday\", 2='Tuesday' and so on but 8='return Weekday not found'\n",
    "\n",
    "week=int(input('Enter any value from 1-7'))\n",
    "\n",
    "if week==1:\n",
    "    print('Monday')\n",
    "\n",
    "elif week==2:\n",
    "    print('Tuesday')\n",
    "elif week==3:\n",
    "    print('Wednesday')\n",
    "elif week==4:\n",
    "    print('Thursday')\n",
    "elif week==5:\n",
    "    print('Friday')\n",
    "elif week==6:\n",
    "    print('Saturday')\n",
    "elif week==7:\n",
    "    print('Sunday')\n",
    "\n",
    "else:\n",
    "    print('Invald Input Number')"
   ]
  },
  {
   "cell_type": "code",
   "execution_count": null,
   "id": "0d538384-e5c0-4665-9a55-790de793337f",
   "metadata": {},
   "outputs": [],
   "source": [
    "#1.  Wap to display the month name if user enter the value 1=\"January\",2=\"February\",3=\"March\",4=\"April\" \n",
    "#13=\"Invalid Month name\" so no.\n",
    "#2. wap to display weekdays name if user enter the value 1=\"Monday\",2=\"Tuesday\",3=\"Wednesday\" \n",
    "# 8=\"Invaid Weekday name\"and so on.\n",
    "\n",
    "#3. Wap to take input from the user and display the even or odd number.\n",
    "\n",
    "#4.Wap to check user input number is divisible by 7 or not.\n",
    "\n",
    "#5.Wap to check user input number is divisible by 7,8.\n",
    "\n",
    "#6.wap to check the divisibility of 3,5,7.\n",
    "\n",
    "#7.wap to find the sum of three number input from the user.\n",
    "\n",
    "#8.wap to find the sum of three numbers if all numbers are less than 20 and if number is greater than 20 \n",
    "# then find the subtract or all numbers is greater than 30 then multiply the all.\n",
    "\n",
    "#9. Given a list=[10,20,30,40,50,60,70,80,90,100]\n",
    "# first reverse the value only 40 to 80 your product is 10,20,30,80,70,60,50,40,90,100\n",
    "# second reverse the whole list and your output will be list = [100,90,80,70,60,50,40,30,20,10]\n",
    "\n",
    "#10. wap to find the exponent of user input number.\n",
    "\n",
    "#11. Accept any city from the user and display their monument of the city.\n",
    "# City -------------------------------> \"Monument\"\n",
    "# Delhi-------------------------------> \"RedFort\"\n",
    "# Agra--------------------------------> \"TajMahal\"\n",
    "# Jaipur------------------------------> \"JalMahal,HawaMahal\"\n",
    "# AmritSar----------------------------> \"Golden Temple\"\n",
    "# Madurai-----------------------------> \"Meenakshi Temple\"\n",
    "# Mysore------------------------------> \"Mysore Palace\"\n",
    "# Mumbai------------------------------> \"Gateway of India\"\n",
    "# Sanchi------------------------------> \"Sanchi Stupa\"\n",
    "# Hydrabad----------------------------> \"Charminar\"\n",
    "\n",
    "#12. A shop will give discount of 20% if the cost purchased cost price is more than 1000 it will give\n",
    "# discount 10% below 1000 no discount, cost is not more than 3000.\n",
    "\n",
    "#13. A Company decided to give the bonus to the employee according to the following conditions:\n",
    "# Time period of services ---------------------> Bonus\n",
    "# More than 10 Years --------------------------> 10%\n",
    "# >=6 years and <=10 years---------------------> 8%\n",
    "# <6 years ------------------------------------> 5%\n",
    "# Ask the user for their salary and year of services and print the net bonus amount."
   ]
  }
 ],
 "metadata": {
  "kernelspec": {
   "display_name": "Python 3 (ipykernel)",
   "language": "python",
   "name": "python3"
  },
  "language_info": {
   "codemirror_mode": {
    "name": "ipython",
    "version": 3
   },
   "file_extension": ".py",
   "mimetype": "text/x-python",
   "name": "python",
   "nbconvert_exporter": "python",
   "pygments_lexer": "ipython3",
   "version": "3.12.2"
  }
 },
 "nbformat": 4,
 "nbformat_minor": 5
}
